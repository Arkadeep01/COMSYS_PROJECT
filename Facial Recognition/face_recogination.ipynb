{
  "nbformat": 4,
  "nbformat_minor": 0,
  "metadata": {
    "colab": {
      "provenance": [],
      "gpuType": "T4"
    },
    "kernelspec": {
      "name": "python3",
      "display_name": "Python 3"
    },
    "language_info": {
      "name": "python"
    },
    "accelerator": "GPU"
  },
  "cells": [
    {
      "cell_type": "code",
      "execution_count": 1,
      "metadata": {
        "id": "45AmECG3wBY5",
        "colab": {
          "base_uri": "https://localhost:8080/"
        },
        "outputId": "0277d534-0bff-47d2-fb4a-4aa8169cb22f"
      },
      "outputs": [
        {
          "output_type": "stream",
          "name": "stdout",
          "text": [
            "Mounted at /content/drive\n"
          ]
        }
      ],
      "source": [
        "# Mount drive and unzip as before\n",
        "from google.colab import drive\n",
        "drive.mount('/content/drive')\n",
        "\n",
        "zip_path = \"/content/drive/MyDrive/Comys_Hackathon5.zip\"\n",
        "!unzip -q \"{zip_path}\" -d /content/\n"
      ]
    },
    {
      "cell_type": "code",
      "source": [
        "import os\n",
        "import shutil\n",
        "\n",
        "# Paths to your datasets\n",
        "train_dir = \"/content/Comys_Hackathon5/Task_B/train\"\n",
        "val_dir   = \"/content/Comys_Hackathon5/Task_B/val\"\n",
        "\n",
        "# Get list of class folders\n",
        "train_classes = set(os.listdir(train_dir))\n",
        "val_classes   = set(os.listdir(val_dir))\n",
        "\n",
        "# Find missing classes\n",
        "missing_classes = train_classes - val_classes\n",
        "print(f\"Classes missing in val: {missing_classes}\")\n",
        "\n",
        "# Copy each missing class directory from train to val\n",
        "for class_name in missing_classes:\n",
        "    src_class_dir = os.path.join(train_dir, class_name)\n",
        "    dest_class_dir = os.path.join(val_dir, class_name)\n",
        "\n",
        "    # Copy entire directory tree\n",
        "    shutil.copytree(src_class_dir, dest_class_dir)\n",
        "    print(f\"Copied {class_name} to val dataset.\")\n",
        "\n",
        "print(\"✅ All missing classes copied.\")\n"
      ],
      "metadata": {
        "colab": {
          "base_uri": "https://localhost:8080/"
        },
        "id": "ioX4oA7F4DRa",
        "outputId": "bf8b5596-6c57-4dcc-c804-b4b159eddd81"
      },
      "execution_count": 2,
      "outputs": [
        {
          "output_type": "stream",
          "name": "stdout",
          "text": [
            "Classes missing in val: {'Larry_Ralston', 'Mario_Alfaro-Lopez', 'Peter_Mugyeni', 'Tim_Norbeck', 'Sergei_Alexandrovitch_Ordzhonikidze', 'Kevin_Gil', 'Lindsay_Benko', 'Eva_Mendes', 'Larry_Ellison', 'Richard_Jewell', 'Sophia_Loren', 'Maurice_Strong', 'Connie_Chung', 'Yuri_Luzhkov', 'Sandra_Milo', 'Charles_Pickering', 'Richard_Rodriguez', 'Michael_Guiler', 'Brian_Schneider', 'Claudio_Abbado', 'Tom_Lantos', 'Bill_Kollar', 'Marian_Dolan', 'Takenori_Kanzaki', 'Eric_Ryan_Donnelly', '089_frontal', 'Emma_Nicholson', 'Peter_Fisher', 'Joseph_LePore', 'Kate_Starbird', 'Michael_Taylor', 'Paul_Li_Calsi', 'Carlos_Lordkipanitse', 'Jose_Lina', 'Kristin_Davis', '128_frontal', 'Dion_Glover', 'Valerie_Harper', 'Desmon_Farmer', 'Carlos_Salinas', 'John_Kerr', 'Michael_Sullivan', 'Brock_Berlin', 'Raoul_Ruiz', 'Mona_Ayoub', 'Daniel_Pearl', 'Carol_Burnett', 'Budd_Schulberg', 'John_Bolton', 'Douglas_Faneuil', 'Bryan_Chui', 'Faisal_Saleh_Hayat', 'Dick_Latessa', 'Tiger_Woods', 'Jerry_Sexton', 'Tyler_Grillo', 'Kelli_White', 'James_Lockhart', 'Dolly_Parton', 'Sally_Clark', 'David_Collenette', 'Ty_Votaw', 'Vincent_Sombrotto', 'Steve_Avery', 'Chip_Ganassi', 'Gong_Li', 'Jennifer_Renee_Short', 'Mitchell_Swartz', 'Uzi_Even', 'Gary_Bald', 'Klaus_Schwab', '062_frontal', 'Wayne_Ferreira', '030_frontal', 'Kenneth_Evans', 'Robert_Douglas', '055_frontal', 'James_Carville', 'Askar_Akayev', 'Martin_Landau', 'Debra_Rose', 'Gabriel_Farhi', 'Juanes', 'Denzel_Washington', 'Mark_Hanson', 'Lisa_Stone', '047_frontal', 'Mike_Smith', '021_frontal', 'Mike_Johanns', 'Oscar_Elias_Biscet', 'Brad_Gushue', 'Janet_Napolitano', 'Ed_Sullivan', 'Rob_Niedermayer', 'John_Paul_DeJoria', '029_frontal', 'Pio_Laghi', '102_frontal', 'Sandra_Banning', 'Guy_Ritchie', 'Jules_Asner', 'Melinda_Czink', 'Chin-Feng_Chen', 'Stuart_Whitman', 'Adrian_Fernandez', 'Manuela_Montebrun', 'Tuncay_Sanli', 'John_Bond', 'Jaromir_Jagr', 'Jose_Manuel_Durao_Barroso', 'Red_Auerbach', 'John_Banko', 'Cesar_Maia', 'Billy_Beane', 'Robert_Beck', 'Elvis_Costello', 'Ronde_Barber', 'Yang_Jianli', 'Li_Changchun', 'Natalia_Vodonova', 'Marina_Anissina', 'Kate_Hudson', 'Sean_Astin', 'Scott_Weiland', 'Leo_Mullin', 'Tim_Howard', 'Monica_Seles', 'Gary_Barnett', 'Alexis_Bledel', 'Joe_Mantello', 'Kellie_Coffey', 'Jason_Biggs', '121_frontal', 'Cabas', 'Andre_Bucher', 'Lynne_Thigpen', 'Ricardo_Lopez_Murphy', 'Andy_Garcia', 'Steve_Case', 'Keith_Tyson', 'Gary_Williams', 'Matthew_Ouimet', 'Roberto_Laratro', 'Manfred_Stolpe', 'Bill_Byrne', 'Charlton_Heston', 'Trevor_McDonald', 'Dick_Smothers', 'Aleksander_Kwasniewski', 'Diana_Ross', 'Kim_Gandy', 'Derrick_Rodgers', 'Abdul_Majeed_Shobokshi', 'Franco_Cangele', 'Peter_Harvey', 'Irfan_Ahmed', 'Clemente_de_la_Vega', '123_frontal', 'Maria_Shriver', '015_frontal', '008_frontal', 'Tommy_Tubberville', '057_frontal', 'Martin_Torrijos', 'Peter_Bacanovic', 'Peter_Greenaway', '068_frontal', '065_frontal', 'Mufti_Mohammad_Syed', 'Faye_Wong', 'Eli_Rosenbaum', 'Li_Peng', 'Amr_Moussa', 'Vincent_Spadea', 'Mirela_Manjani', 'Robin_McGraw', 'Elizabeth_Hurley', 'Bill_Butler', 'Rogerio_Romero', 'Isaiah_Washington', '042_frontal', 'Jane_Leeves', 'Mehmet_Ali_Sahin', '004_frontal', 'Dave_Robertson', 'Vinnie_Jones', 'Matt_Doherty', 'Ray_Bradbury', 'Johnny_Benson', 'Li_Zhaoxing', '090_frontal', 'Ellen_Pompeo', 'Jason_Priestley', 'Hugh_Campbell', 'Brian_Henson', 'Jennifer_Connelly', 'Yogi_Berra', 'John_Abizaid', 'Malik_Mahmud', 'Eric_Christian_Olsen', 'Joan_Dangerfield', 'Steve_Shiver', 'Barbara_Brezigar', 'Leo_Ramirez', 'Parris_Glendening', 'Anthony_Hopkins', 'Mariangel_Ruiz_Torrealba', 'Mark_Martin', 'Brandon_Larson', 'Zarai_Toledo', '022_frontal', 'Hanan_Ashrawi', 'Ozzy_Osbourne', 'Max_von_Sydow', 'Gael_Garcia_Bermal', 'Matthew_Broderick', 'Marwan_Barghouthi', 'James_Sensenbrenner', 'Troy_Jenkins', 'Floyd_Mayweather', 'Brandon_Boyd', 'Isabelle_Huppert', 'Greg_Rusedski', 'Norodom_Sihanouk', 'Betty_Garrison', 'Hank_Stram', 'Georgina_Papin', 'Christine_Arron', 'Marco_Irizarry', 'Nestor_Gonzalez', 'Bob_Melvin', '038_frontal', 'Chance_Mock', 'Doug_Moe', 'Hana_Sadiq', 'Dave_Williams', '088_frontal', 'Raymond_Arthurs', 'Mike_Samp', 'Lloyd_Mudiwa', 'Naomi_Watts', 'Ana_Palacio', 'Aiysha_Smith', 'Myung_Yang', 'Guillaume_Soro', '094_frontal', 'Jacky_Cheung', '095_frontal', 'Columba_Bush', 'Chandrika_Kumaratunga', 'Jean-Luc_Bideau', '075_frontal', 'Mike_Holmgren', 'Josh_Kronfeld', '035_frontal', 'Mary_Sue_Coleman', 'Margie_Puente', '048_frontal', 'Hussein_Malik', 'Bryan_Adams', 'Hideki_Sato', 'Alejandro_Atchugarry', 'Kofi_Annan', 'Ray_Liotta', 'Hamid_Karzai', '107_frontal', 'Paula_Prentiss', 'Deena_Burnett', 'Momir_Nikolic', 'Pernilla_Bjorn', 'Mohammad_Aktar', 'Wan_Yanhai', 'Jolanta_Kwasniewski', 'Win_Aung', 'Deniz_Baykal', 'David_Modell', 'Kieran_Culkin', 'Compay_Segundo', 'Joerg_Haider', 'Jean-Pierre_Bemba', '026_frontal', 'David_Obey', 'Bak_Chang-Ryun', 'Martha_Martinez_Flores', 'Benjamin_Netanyahu', 'Otto_Schily', 'Matt_Damon', 'Brittany_Snow', 'Jerry_Rice', 'Marcos_Daniel_Jimenez', 'Nate_Hybl', 'Alberto_Ruiz_Gallardon', 'Joe_Calzaghe', 'Daniel_Radcliffe', 'Juan_Ignacio_Chela', 'Bill_OReilly', 'Barry_Nakell', 'Brian_Wells', 'Sarah_Weddington', 'Marc_Bulger', 'Ali_Khamenei', 'Karen_Sharpe_Kramer', 'Michel_Temer', 'Robby_Ginepri', 'John_Franco', 'Nancy_Sinatra', 'Elias_Attallah', 'Kevin_Satterfield', 'Tim_Matheson', 'Anthony_Lee_Johnson', 'Jeong_Se-hyun', 'Herb_Brooks', 'Jose_Cevallos', 'Nadine_Vinzens', '025_frontal', 'Michael_Moore', 'Gong_Ruina', 'Chris_Cirino', 'Alfredo_Pena', 'Dusty_Baker', 'Cathryn_Crawford', 'Bob_Riley', 'Thomas_Fargo', 'Marcelo_Bielsa', 'Efrain_Rios_Montt', 'Carlos_Ortega', '129_frontal', 'Cristian_Barros', 'Tom_Welch', 'Salma_Hayek', 'Timbul_Silaen', 'Leslie_Wiser_Jr', 'Silvie_Cabero', 'Mikulas_Dzurinda', 'Karen_Allen', '100_frontal', 'Jack_Welch', 'Annette_Lu', 'Valery_Giscard_dEstaing', 'Rob_Moore', 'Russell_Crowe', 'Kathryn_Morris', 'Crispin_Glover', '043_frontal', 'Sergio_Vieira_De_Mello', 'Ruben_Studdard', 'Jimmy_Jimenez', '016_frontal', 'Jeremy_Shockey', 'Pete_Sampras', 'Eric_Wedge', 'Daniel_Barenboim', '081_frontal', 'Chante_Jawan_Mallard', 'Seymour_Cassell', 'Narendra_Modi', 'Amy_Pascal', 'Jim_Harrick', 'Flor_Montulo', 'Chris_Rock', 'Denise_Johnson', 'Ryan_Goodman', 'Dario_Franchitti', 'Bill_Pryor', 'Patricia_Johnson', '099_frontal', 'Larry_Beinfest', 'Wu_Yi', 'Gabriel_Hughes', 'Aaron_Pena', 'Dai_Chul_Chyung', 'Stellan_Skarsgard', 'Shireen_Amir_Begum', 'Ralph_Sampson', 'Alex_King', 'Teri_Files', 'Jamie_Villafane', 'Samantha_Daniels', 'Rosario_Dawson', 'Ismail_Cem', '076_frontal', 'Chung_Mong-hun', 'Alexandra_Jackson', 'John_Eder', 'Robert_Pollack', 'Jorge_Moreno', 'Conchita_Martinez', 'Aline_Chretien', 'Dan_Wheldon', 'Bob_Guccione', 'Jim_Carrey', 'Habib_Rizieq', 'Gore_Vidal', 'Princess_Anne', 'James_Mathis', 'Stanley_McChrystal', 'Ted_Christopher', 'Leander_Paes', 'Barbara_Becker', 'Magda_Kertasz', 'Cemil_Cicek', 'Carla_Gay_Balingit', 'Mike_Helton', 'Corinna_Harfouch', 'Atiabet_Ijan_Amabel', '106_frontal', 'Mark_Andrew', 'Valentino_Rossi', 'Patrick_Stewart', 'Evan_Marriott', 'Javier_Saviola', 'Sarah_Wynter', 'Abraham_Foxman', 'Wolfgang_Schwarz', 'David_Hanson', 'Cameron_Diaz', 'Agnelo_Queiroz', 'Hidetoshi_Nakata', 'Jesse_Helms', 'Marilyn_Monroe', 'Gary_Marshall', 'Bob_Geldof', 'Rick_Santorum', 'Princess_Victoria', 'E_Clay_Shaw', 'Sheila_Taormina', '012_frontal', 'Daniel_Chin', 'Rick_Romley', 'Christina_Sawaya', 'John_Gruden', 'Begum_Khaleda_Zia', 'Karl-Heinz_Rummenigge', 'Angel_Lockward', 'Hans_Leistritz', '031_frontal', 'Peter_Hillary', 'Miranda_Gaddis', 'Cho_Myung-kyun', 'Jim_Paxson', 'JP_Suarez', 'Juergen_Peters', '045_frontal', 'Nathalie_Baye', 'Laurence_Fishburne', 'Mitchell_McLaughlin', 'Claudia_Cardinale', 'Angie_Martinez', 'Nebojsa_Pavkovic', 'Pete_Beaudrault', 'Shane_Mosley', 'Charles_Richardson', 'Ana_Claudia_Talancon', 'Ryan_Nyquist', '085_frontal', 'Johnny_Depp', 'Jay_Garner', 'Richard_Naughton', 'Laura_Marlow', 'Karin_Pilsaeter', 'Antonio_Palocci', 'Ignatius_Wang', 'Sean_Patrick_OMalley', 'Mike_Sweeney', 'Billy_Tibbets', '027_frontal', 'Anthony_Pisciotti', 'Rita_Moreno', '125_frontal', 'Bob_Bowlsby', 'Rodney_Dangerfield', 'Slobodan_Milosevic', '110_frontal', 'Ian_Wilmut', 'Jon_Gruden', 'Gwendal_Peizerat', 'Chang_Jae_On', 'Dave_Lewis', 'Alan_Tang_Kwong-wing', 'Giulietta_Masina', 'Jerry_Regier', 'Federico_Trillo', 'Jodie_Henry', 'Dorthy_Moxley', 'Benicio_Del_Toro', 'Robert_Ehrlich', 'Tom_Rouen', 'Thomas_OBrien', 'Kevin_James', 'Reginald_Hudlin', 'Ciro_Gomes', 'William_Webster', 'Martin_Cauchon', 'Ralf_Schumacher', 'Andy_North', 'Tim_Curry', 'Jeannette_Biedermann', 'Jerry_Pauley', 'Frank_Lautenberg', 'Rodrigo_de_la_Cerna', 'Peter_Shaw', 'Helio_Castroneves', 'Daniele_Hypolito', 'George_Lopez', 'Jen_Schefft', 'Jason_Gardner', 'Elin_Nordegren', 'Celso_Lafer', 'Annie_Machon', 'James_Meredeth', 'Lyle_Vanclief', 'Luc_Montagnier', 'Al_Gore', 'Alexandra_Spann', 'Kevin_Garnett', 'Sophie', 'Tina_Brown', 'Michael_Chang', 'Ascencion_Barajas', 'Svend_Aage_Jensby', 'Catherine_Ndereba', 'Jose_Theodore', 'Anna_Chicherova', 'Florencia_Macri', 'Rosemarie_Stack', '020_frontal', 'Patricia_Heaton', 'Anne_ONeil', 'Roger_Mahony', '087_frontal', 'Din_Samsudin', 'Sean_Townsend', '059_frontal', 'Colleen_Jones', 'Todd_Petit', 'Joe_Dicaro', 'Jim_Leach', 'Hushiar_Zebari', 'Alastair_Johnston', 'Michael_Kahn', 'Penelope_Ann_Miller', 'Milo_Maestrecampo', 'Linda_Amicangioli', '002_frontal', 'Aaron_Patterson', 'Michelle_Hofland', 'Jeff_George', 'Edward_Belvin', 'Cristina_Torrens_Valero', 'Noer_Moeis', 'Tom_Coughlin', 'Mario_Lemieux', 'Luis_Gonzalez_Macchi', 'Louis_Van_Gaal', 'Darin_Erstad', 'Hans_Peter_Briegel', 'Pascal_Rheaume', 'Mary_Descenza', 'Andrea_Kiser', 'Janette_Husarova', 'Iran_Brown', 'Carlos_Savedra', 'Chea_Sophara', 'Ed_Book', 'Patrice_Chereau', 'Moshe_Katsav', 'James_Ballenger', 'Bob_Stoops', 'Darryl_Stingley', '117_frontal', 'Larry_Brown', 'Afton_Smith', 'Emyr_Jones_Parry', 'Natalia_Verbeke', 'Billy_Sollie', 'Chuck_Eidson', '103_frontal', 'James_Parker', '093_frontal', 'Trisha_Meili', 'Suzie_McConnell_Serio', 'Alexandra_Pelosi', 'Scott_McNealy', 'James_Blake', 'Justine_Pasek', '118_frontal', 'Janine_Pietsch', 'John_McCallum', '005_frontal', 'Alonzo_Mourning', 'Brendan_Hansen', 'Tim_Duncan', 'Tom_Glavine', 'Fazal-ur-Rehman', 'Sue_Wicks', 'Francois_Pienaar', 'Robert_Duvall', 'Nelson_Shanks', 'Drew_Barrymore', '063_frontal', 'Maurice_Papon', 'Eli_Broad', 'David_Przybyszewski', 'Diana_Renee_Valdivieso_Dubon', '082_frontal', 'Kaio_Almeida', 'Paulina_Rodriguez_Davila', 'Paul_Newman', 'Hermando_Harton', 'Larry_Anderson', 'Hun_Sen', 'Donna_Morrissey', 'Alex_Gonzalez', 'Elizabeth_Shue', 'Masja_Juel', 'Kristin_Scott', 'Nick_Nolte', 'Clive_Lloyd', '119_frontal', 'Strom_Thurmond', 'Nancy_Greenlaw', 'Erwin_Mapasseng', 'LK_Advani', 'Dean_Barkley', 'Wang_Hailan', 'Charles_Lebois', '060_frontal', 'Joe_Plumeri', 'John_Kerry', 'Wang_Nan', 'Marcelo_Ebrard', 'Catherine_Deneuve', 'Eric_Vigouroux', 'Nida_Blanca', '124_frontal', '109_frontal', 'John_Mayer', 'Greg_Hennigar', 'Orlando_Bloom', '051_frontal', 'Sureyya_Ayhan', 'Samuel_Waksal', '010_frontal', '013_frontal', 'David_Dorfman', 'Horace_Donovan_Reid', 'Antonio_Elias_Saca', 'Greg_Ostertag', 'Steve_Austin', 'Tom_Ridge', 'Roger_Staubach', 'Steve_Blake', 'Milton_Berle', 'Gary_Locke', 'Moby', 'Bulent_Ecevit', 'Jeanne_Moreau', 'Tom_Hanks', 'Omar_el-Heib', 'Rick_Bragg', '001_frontal', 'Gene_Sauers', 'Linus_Roache', 'Katalin_Kollat', 'Mariah_Carey', 'Dave_Odom', '039_frontal', 'Donald_Keck', 'Teresa_Heinz_Kerry', 'S_Jayakumar', 'Rohinton_Mistry', 'Tommy_Shane_Steiner', 'Queen_Beatrix', 'Bill_Belichick', 'Mohammad_Al-Sharief', '032_frontal', 'Lela_Rochon', 'Alfred_Ford', 'Pat_Burns', 'Mark_Gangloff', 'Mary_Matalin', 'Jacqueline_Obradors', '122_frontal', 'Justin_Wilson', 'Brandon_Knight', 'William_Morrow', 'John_Connolly', '011_frontal', 'Aaron_Guiel', 'Steve_Mariucci', 'Alan_Ball', 'Rick_Bland', 'Jim_Ahern', 'Tono_Suratman', 'Michael_Donovan', 'Hussam_Mohammed_Amin', 'Sasha_Alexander', 'Atsushi_Sato', 'Oscar_De_La_Hoya', 'Enrique_Iglesias', 'Lindy_Ruff', 'Phillipe_Comtois', 'Lawrence_Di_Rita', 'Christian_Longo', 'Brian_Scalabrine', 'Joe_Cocker', 'Andrew_Bernard', 'Nadia_Forte', 'Cassandra_Heise', 'Keith_Foulke', 'Leonard_Glick', 'Michael_Leavitt', 'Selma_Phoenix', 'Charlie_Hunnam', 'Geovani_Lapentti', 'Emmanuel_Milingo', 'Chris_Kolanas', 'Derrick_Battie', '007_frontal', 'Kristanna_Loken', 'Chris_Moore', 'Fred_Funk', '053_frontal', 'Hwang_Doo-yun', 'Tom_Cruise', 'Bernard_Kerik', 'Scott_Wallach', 'Maryn_McKenna', 'Hugo_Chavez', 'Phil_McGraw', 'Maritza_Macias_Furano', 'Donald_Pettit', '066_frontal', '096_frontal', 'Ahmad_Masood', 'Diane_Ladd', 'Stipe_Mesic', 'Elgin_Baylor', '028_frontal', 'Robert_Bullock', 'Martha_Burk', 'Bryant_Young', 'Mohammed_Ashraf_Hafiz', 'Asif_Ali_Zardari', 'John_Edwards', 'Malcolm_Glazer', 'Douglas_Paal', 'Shoshannah_Stern', 'Martha_Bowen', 'Martin_Boryczewski', 'Peter_Mackay', 'Vanessa_Williams', 'Natalie_Juniardi', '019_frontal', 'Maureen_Fanning', 'Anne_Cavers', 'Garry_McCoy', 'Klaus_Zwickel', 'Laura_Elena_Harring', 'Gregorio_Honasan', 'Elinor_Caplan', 'Sue_Grafton', 'Aishwarya_Rai', 'Leon_Silver', 'Simona_Hradil', 'Johnny_Unitas', '003_frontal', '014_frontal', 'Oswaldo_Paya', 'Carson_Palmer', 'Cynthia_Rowley', 'Shannon_OBrien', 'Kurt_Hellstrom', 'Irwan_Fadzi_Idris', 'Roger_Cook', '067_frontal', 'Stephen_Glassroth', 'Gianni_Agnelli', 'Suzanne_Mubarak', 'Jeremy_Fogel', 'Matt_Roney', 'Fernando_Leon_de_Aranoa', 'Alberto_Fujimori', 'Juan_Carlos_Ortega', 'Richard_Tubb', 'Jim_Sterk', 'Vicente_Fox_de_la_Concha', '056_frontal', 'Gregg_Popovich', '064_frontal', 'Gennifer_Flowers', 'Beyonce_Knowles', '054_frontal', 'Babe_Ruth', 'Jody_Richards', 'William_Burns', 'Maha_Habib', 'Charles_Schumer', 'Gary_Gitnick', '115_frontal', '113_frontal', 'Frank_Schmoekel', 'Edgar_Savisaar', 'Ali_Fallahian', 'Suzanne_Haik_Terrell', 'Tony_Stewart', 'Jeffrey_Ashby', 'Roger_Clemens', 'Shawn_Bradley', 'Brigitte_Boisselier', 'Lin_Yung_Hsi', 'Jane_Krakowski', 'Isidro_Pastor', 'Charlene_Barshefsky', 'Tammy_Helm', 'Shannyn_Sossamon', 'Andy_Warhol', 'Roman_Tam', 'Martin_Bandier', 'Harvey_Fierstein', '114_frontal', 'David_Kelly', 'Ilan_Ramon', '036_frontal', 'Diane_Lane', 'Gerard_Butler', 'Frederique_van_der_Wal', 'Matt_Siebrandt', 'Yasushi_Akashi', 'Allen_Rock', 'Donna_Walker', 'Patricia_Hearst', 'Lucy_Liu', 'Andrea_Yates', 'Turner_Gill', 'Annette_Bening', 'Abdullatif_Sener', 'Tom_Miller', 'Julian_Battle', 'Katrin_Susi', 'Charles_Mathews', 'Anette_Hosoi', 'Graeme_Smith', '072_frontal', 'Guillermo_Ruiz_Polanco', 'Jean-Pierre_Raffarin', '044_frontal', 'Roberto_Carlos', 'Emily_Mason', 'Stephen_Thompson', 'Heidi_Fleiss', 'Mario_Puzo', 'Jacqueline_Gold', 'Adriana_Perez_Navarro', 'Katie_Couric', '092_frontal', 'Kurt_Warner', 'Tony_Curtis', 'Michael_McNeely', 'Jennifer_Furminger', '071_frontal', 'Ed_Case', 'Brandon_Robinson', '086_frontal', 'Sarah_Price', 'Amanda_Beard', 'Debra_Brown', 'Derek_Jeter', 'Ted_Williams', 'Serge_Klarsfeld', 'Allen_Iverson', 'Karin_Stoiber', 'Al_Leiter', 'Colin_Powell', 'Phillip_Fulmer', 'Mitchell_Crooks'}\n",
            "Copied Larry_Ralston to val dataset.\n",
            "Copied Mario_Alfaro-Lopez to val dataset.\n",
            "Copied Peter_Mugyeni to val dataset.\n",
            "Copied Tim_Norbeck to val dataset.\n",
            "Copied Sergei_Alexandrovitch_Ordzhonikidze to val dataset.\n",
            "Copied Kevin_Gil to val dataset.\n",
            "Copied Lindsay_Benko to val dataset.\n",
            "Copied Eva_Mendes to val dataset.\n",
            "Copied Larry_Ellison to val dataset.\n",
            "Copied Richard_Jewell to val dataset.\n",
            "Copied Sophia_Loren to val dataset.\n",
            "Copied Maurice_Strong to val dataset.\n",
            "Copied Connie_Chung to val dataset.\n",
            "Copied Yuri_Luzhkov to val dataset.\n",
            "Copied Sandra_Milo to val dataset.\n",
            "Copied Charles_Pickering to val dataset.\n",
            "Copied Richard_Rodriguez to val dataset.\n",
            "Copied Michael_Guiler to val dataset.\n",
            "Copied Brian_Schneider to val dataset.\n",
            "Copied Claudio_Abbado to val dataset.\n",
            "Copied Tom_Lantos to val dataset.\n",
            "Copied Bill_Kollar to val dataset.\n",
            "Copied Marian_Dolan to val dataset.\n",
            "Copied Takenori_Kanzaki to val dataset.\n",
            "Copied Eric_Ryan_Donnelly to val dataset.\n",
            "Copied 089_frontal to val dataset.\n",
            "Copied Emma_Nicholson to val dataset.\n",
            "Copied Peter_Fisher to val dataset.\n",
            "Copied Joseph_LePore to val dataset.\n",
            "Copied Kate_Starbird to val dataset.\n",
            "Copied Michael_Taylor to val dataset.\n",
            "Copied Paul_Li_Calsi to val dataset.\n",
            "Copied Carlos_Lordkipanitse to val dataset.\n",
            "Copied Jose_Lina to val dataset.\n",
            "Copied Kristin_Davis to val dataset.\n",
            "Copied 128_frontal to val dataset.\n",
            "Copied Dion_Glover to val dataset.\n",
            "Copied Valerie_Harper to val dataset.\n",
            "Copied Desmon_Farmer to val dataset.\n",
            "Copied Carlos_Salinas to val dataset.\n",
            "Copied John_Kerr to val dataset.\n",
            "Copied Michael_Sullivan to val dataset.\n",
            "Copied Brock_Berlin to val dataset.\n",
            "Copied Raoul_Ruiz to val dataset.\n",
            "Copied Mona_Ayoub to val dataset.\n",
            "Copied Daniel_Pearl to val dataset.\n",
            "Copied Carol_Burnett to val dataset.\n",
            "Copied Budd_Schulberg to val dataset.\n",
            "Copied John_Bolton to val dataset.\n",
            "Copied Douglas_Faneuil to val dataset.\n",
            "Copied Bryan_Chui to val dataset.\n",
            "Copied Faisal_Saleh_Hayat to val dataset.\n",
            "Copied Dick_Latessa to val dataset.\n",
            "Copied Tiger_Woods to val dataset.\n",
            "Copied Jerry_Sexton to val dataset.\n",
            "Copied Tyler_Grillo to val dataset.\n",
            "Copied Kelli_White to val dataset.\n",
            "Copied James_Lockhart to val dataset.\n",
            "Copied Dolly_Parton to val dataset.\n",
            "Copied Sally_Clark to val dataset.\n",
            "Copied David_Collenette to val dataset.\n",
            "Copied Ty_Votaw to val dataset.\n",
            "Copied Vincent_Sombrotto to val dataset.\n",
            "Copied Steve_Avery to val dataset.\n",
            "Copied Chip_Ganassi to val dataset.\n",
            "Copied Gong_Li to val dataset.\n",
            "Copied Jennifer_Renee_Short to val dataset.\n",
            "Copied Mitchell_Swartz to val dataset.\n",
            "Copied Uzi_Even to val dataset.\n",
            "Copied Gary_Bald to val dataset.\n",
            "Copied Klaus_Schwab to val dataset.\n",
            "Copied 062_frontal to val dataset.\n",
            "Copied Wayne_Ferreira to val dataset.\n",
            "Copied 030_frontal to val dataset.\n",
            "Copied Kenneth_Evans to val dataset.\n",
            "Copied Robert_Douglas to val dataset.\n",
            "Copied 055_frontal to val dataset.\n",
            "Copied James_Carville to val dataset.\n",
            "Copied Askar_Akayev to val dataset.\n",
            "Copied Martin_Landau to val dataset.\n",
            "Copied Debra_Rose to val dataset.\n",
            "Copied Gabriel_Farhi to val dataset.\n",
            "Copied Juanes to val dataset.\n",
            "Copied Denzel_Washington to val dataset.\n",
            "Copied Mark_Hanson to val dataset.\n",
            "Copied Lisa_Stone to val dataset.\n",
            "Copied 047_frontal to val dataset.\n",
            "Copied Mike_Smith to val dataset.\n",
            "Copied 021_frontal to val dataset.\n",
            "Copied Mike_Johanns to val dataset.\n",
            "Copied Oscar_Elias_Biscet to val dataset.\n",
            "Copied Brad_Gushue to val dataset.\n",
            "Copied Janet_Napolitano to val dataset.\n",
            "Copied Ed_Sullivan to val dataset.\n",
            "Copied Rob_Niedermayer to val dataset.\n",
            "Copied John_Paul_DeJoria to val dataset.\n",
            "Copied 029_frontal to val dataset.\n",
            "Copied Pio_Laghi to val dataset.\n",
            "Copied 102_frontal to val dataset.\n",
            "Copied Sandra_Banning to val dataset.\n",
            "Copied Guy_Ritchie to val dataset.\n",
            "Copied Jules_Asner to val dataset.\n",
            "Copied Melinda_Czink to val dataset.\n",
            "Copied Chin-Feng_Chen to val dataset.\n",
            "Copied Stuart_Whitman to val dataset.\n",
            "Copied Adrian_Fernandez to val dataset.\n",
            "Copied Manuela_Montebrun to val dataset.\n",
            "Copied Tuncay_Sanli to val dataset.\n",
            "Copied John_Bond to val dataset.\n",
            "Copied Jaromir_Jagr to val dataset.\n",
            "Copied Jose_Manuel_Durao_Barroso to val dataset.\n",
            "Copied Red_Auerbach to val dataset.\n",
            "Copied John_Banko to val dataset.\n",
            "Copied Cesar_Maia to val dataset.\n",
            "Copied Billy_Beane to val dataset.\n",
            "Copied Robert_Beck to val dataset.\n",
            "Copied Elvis_Costello to val dataset.\n",
            "Copied Ronde_Barber to val dataset.\n",
            "Copied Yang_Jianli to val dataset.\n",
            "Copied Li_Changchun to val dataset.\n",
            "Copied Natalia_Vodonova to val dataset.\n",
            "Copied Marina_Anissina to val dataset.\n",
            "Copied Kate_Hudson to val dataset.\n",
            "Copied Sean_Astin to val dataset.\n",
            "Copied Scott_Weiland to val dataset.\n",
            "Copied Leo_Mullin to val dataset.\n",
            "Copied Tim_Howard to val dataset.\n",
            "Copied Monica_Seles to val dataset.\n",
            "Copied Gary_Barnett to val dataset.\n",
            "Copied Alexis_Bledel to val dataset.\n",
            "Copied Joe_Mantello to val dataset.\n",
            "Copied Kellie_Coffey to val dataset.\n",
            "Copied Jason_Biggs to val dataset.\n",
            "Copied 121_frontal to val dataset.\n",
            "Copied Cabas to val dataset.\n",
            "Copied Andre_Bucher to val dataset.\n",
            "Copied Lynne_Thigpen to val dataset.\n",
            "Copied Ricardo_Lopez_Murphy to val dataset.\n",
            "Copied Andy_Garcia to val dataset.\n",
            "Copied Steve_Case to val dataset.\n",
            "Copied Keith_Tyson to val dataset.\n",
            "Copied Gary_Williams to val dataset.\n",
            "Copied Matthew_Ouimet to val dataset.\n",
            "Copied Roberto_Laratro to val dataset.\n",
            "Copied Manfred_Stolpe to val dataset.\n",
            "Copied Bill_Byrne to val dataset.\n",
            "Copied Charlton_Heston to val dataset.\n",
            "Copied Trevor_McDonald to val dataset.\n",
            "Copied Dick_Smothers to val dataset.\n",
            "Copied Aleksander_Kwasniewski to val dataset.\n",
            "Copied Diana_Ross to val dataset.\n",
            "Copied Kim_Gandy to val dataset.\n",
            "Copied Derrick_Rodgers to val dataset.\n",
            "Copied Abdul_Majeed_Shobokshi to val dataset.\n",
            "Copied Franco_Cangele to val dataset.\n",
            "Copied Peter_Harvey to val dataset.\n",
            "Copied Irfan_Ahmed to val dataset.\n",
            "Copied Clemente_de_la_Vega to val dataset.\n",
            "Copied 123_frontal to val dataset.\n",
            "Copied Maria_Shriver to val dataset.\n",
            "Copied 015_frontal to val dataset.\n",
            "Copied 008_frontal to val dataset.\n",
            "Copied Tommy_Tubberville to val dataset.\n",
            "Copied 057_frontal to val dataset.\n",
            "Copied Martin_Torrijos to val dataset.\n",
            "Copied Peter_Bacanovic to val dataset.\n",
            "Copied Peter_Greenaway to val dataset.\n",
            "Copied 068_frontal to val dataset.\n",
            "Copied 065_frontal to val dataset.\n",
            "Copied Mufti_Mohammad_Syed to val dataset.\n",
            "Copied Faye_Wong to val dataset.\n",
            "Copied Eli_Rosenbaum to val dataset.\n",
            "Copied Li_Peng to val dataset.\n",
            "Copied Amr_Moussa to val dataset.\n",
            "Copied Vincent_Spadea to val dataset.\n",
            "Copied Mirela_Manjani to val dataset.\n",
            "Copied Robin_McGraw to val dataset.\n",
            "Copied Elizabeth_Hurley to val dataset.\n",
            "Copied Bill_Butler to val dataset.\n",
            "Copied Rogerio_Romero to val dataset.\n",
            "Copied Isaiah_Washington to val dataset.\n",
            "Copied 042_frontal to val dataset.\n",
            "Copied Jane_Leeves to val dataset.\n",
            "Copied Mehmet_Ali_Sahin to val dataset.\n",
            "Copied 004_frontal to val dataset.\n",
            "Copied Dave_Robertson to val dataset.\n",
            "Copied Vinnie_Jones to val dataset.\n",
            "Copied Matt_Doherty to val dataset.\n",
            "Copied Ray_Bradbury to val dataset.\n",
            "Copied Johnny_Benson to val dataset.\n",
            "Copied Li_Zhaoxing to val dataset.\n",
            "Copied 090_frontal to val dataset.\n",
            "Copied Ellen_Pompeo to val dataset.\n",
            "Copied Jason_Priestley to val dataset.\n",
            "Copied Hugh_Campbell to val dataset.\n",
            "Copied Brian_Henson to val dataset.\n",
            "Copied Jennifer_Connelly to val dataset.\n",
            "Copied Yogi_Berra to val dataset.\n",
            "Copied John_Abizaid to val dataset.\n",
            "Copied Malik_Mahmud to val dataset.\n",
            "Copied Eric_Christian_Olsen to val dataset.\n",
            "Copied Joan_Dangerfield to val dataset.\n",
            "Copied Steve_Shiver to val dataset.\n",
            "Copied Barbara_Brezigar to val dataset.\n",
            "Copied Leo_Ramirez to val dataset.\n",
            "Copied Parris_Glendening to val dataset.\n",
            "Copied Anthony_Hopkins to val dataset.\n",
            "Copied Mariangel_Ruiz_Torrealba to val dataset.\n",
            "Copied Mark_Martin to val dataset.\n",
            "Copied Brandon_Larson to val dataset.\n",
            "Copied Zarai_Toledo to val dataset.\n",
            "Copied 022_frontal to val dataset.\n",
            "Copied Hanan_Ashrawi to val dataset.\n",
            "Copied Ozzy_Osbourne to val dataset.\n",
            "Copied Max_von_Sydow to val dataset.\n",
            "Copied Gael_Garcia_Bermal to val dataset.\n",
            "Copied Matthew_Broderick to val dataset.\n",
            "Copied Marwan_Barghouthi to val dataset.\n",
            "Copied James_Sensenbrenner to val dataset.\n",
            "Copied Troy_Jenkins to val dataset.\n",
            "Copied Floyd_Mayweather to val dataset.\n",
            "Copied Brandon_Boyd to val dataset.\n",
            "Copied Isabelle_Huppert to val dataset.\n",
            "Copied Greg_Rusedski to val dataset.\n",
            "Copied Norodom_Sihanouk to val dataset.\n",
            "Copied Betty_Garrison to val dataset.\n",
            "Copied Hank_Stram to val dataset.\n",
            "Copied Georgina_Papin to val dataset.\n",
            "Copied Christine_Arron to val dataset.\n",
            "Copied Marco_Irizarry to val dataset.\n",
            "Copied Nestor_Gonzalez to val dataset.\n",
            "Copied Bob_Melvin to val dataset.\n",
            "Copied 038_frontal to val dataset.\n",
            "Copied Chance_Mock to val dataset.\n",
            "Copied Doug_Moe to val dataset.\n",
            "Copied Hana_Sadiq to val dataset.\n",
            "Copied Dave_Williams to val dataset.\n",
            "Copied 088_frontal to val dataset.\n",
            "Copied Raymond_Arthurs to val dataset.\n",
            "Copied Mike_Samp to val dataset.\n",
            "Copied Lloyd_Mudiwa to val dataset.\n",
            "Copied Naomi_Watts to val dataset.\n",
            "Copied Ana_Palacio to val dataset.\n",
            "Copied Aiysha_Smith to val dataset.\n",
            "Copied Myung_Yang to val dataset.\n",
            "Copied Guillaume_Soro to val dataset.\n",
            "Copied 094_frontal to val dataset.\n",
            "Copied Jacky_Cheung to val dataset.\n",
            "Copied 095_frontal to val dataset.\n",
            "Copied Columba_Bush to val dataset.\n",
            "Copied Chandrika_Kumaratunga to val dataset.\n",
            "Copied Jean-Luc_Bideau to val dataset.\n",
            "Copied 075_frontal to val dataset.\n",
            "Copied Mike_Holmgren to val dataset.\n",
            "Copied Josh_Kronfeld to val dataset.\n",
            "Copied 035_frontal to val dataset.\n",
            "Copied Mary_Sue_Coleman to val dataset.\n",
            "Copied Margie_Puente to val dataset.\n",
            "Copied 048_frontal to val dataset.\n",
            "Copied Hussein_Malik to val dataset.\n",
            "Copied Bryan_Adams to val dataset.\n",
            "Copied Hideki_Sato to val dataset.\n",
            "Copied Alejandro_Atchugarry to val dataset.\n",
            "Copied Kofi_Annan to val dataset.\n",
            "Copied Ray_Liotta to val dataset.\n",
            "Copied Hamid_Karzai to val dataset.\n",
            "Copied 107_frontal to val dataset.\n",
            "Copied Paula_Prentiss to val dataset.\n",
            "Copied Deena_Burnett to val dataset.\n",
            "Copied Momir_Nikolic to val dataset.\n",
            "Copied Pernilla_Bjorn to val dataset.\n",
            "Copied Mohammad_Aktar to val dataset.\n",
            "Copied Wan_Yanhai to val dataset.\n",
            "Copied Jolanta_Kwasniewski to val dataset.\n",
            "Copied Win_Aung to val dataset.\n",
            "Copied Deniz_Baykal to val dataset.\n",
            "Copied David_Modell to val dataset.\n",
            "Copied Kieran_Culkin to val dataset.\n",
            "Copied Compay_Segundo to val dataset.\n",
            "Copied Joerg_Haider to val dataset.\n",
            "Copied Jean-Pierre_Bemba to val dataset.\n",
            "Copied 026_frontal to val dataset.\n",
            "Copied David_Obey to val dataset.\n",
            "Copied Bak_Chang-Ryun to val dataset.\n",
            "Copied Martha_Martinez_Flores to val dataset.\n",
            "Copied Benjamin_Netanyahu to val dataset.\n",
            "Copied Otto_Schily to val dataset.\n",
            "Copied Matt_Damon to val dataset.\n",
            "Copied Brittany_Snow to val dataset.\n",
            "Copied Jerry_Rice to val dataset.\n",
            "Copied Marcos_Daniel_Jimenez to val dataset.\n",
            "Copied Nate_Hybl to val dataset.\n",
            "Copied Alberto_Ruiz_Gallardon to val dataset.\n",
            "Copied Joe_Calzaghe to val dataset.\n",
            "Copied Daniel_Radcliffe to val dataset.\n",
            "Copied Juan_Ignacio_Chela to val dataset.\n",
            "Copied Bill_OReilly to val dataset.\n",
            "Copied Barry_Nakell to val dataset.\n",
            "Copied Brian_Wells to val dataset.\n",
            "Copied Sarah_Weddington to val dataset.\n",
            "Copied Marc_Bulger to val dataset.\n",
            "Copied Ali_Khamenei to val dataset.\n",
            "Copied Karen_Sharpe_Kramer to val dataset.\n",
            "Copied Michel_Temer to val dataset.\n",
            "Copied Robby_Ginepri to val dataset.\n",
            "Copied John_Franco to val dataset.\n",
            "Copied Nancy_Sinatra to val dataset.\n",
            "Copied Elias_Attallah to val dataset.\n",
            "Copied Kevin_Satterfield to val dataset.\n",
            "Copied Tim_Matheson to val dataset.\n",
            "Copied Anthony_Lee_Johnson to val dataset.\n",
            "Copied Jeong_Se-hyun to val dataset.\n",
            "Copied Herb_Brooks to val dataset.\n",
            "Copied Jose_Cevallos to val dataset.\n",
            "Copied Nadine_Vinzens to val dataset.\n",
            "Copied 025_frontal to val dataset.\n",
            "Copied Michael_Moore to val dataset.\n",
            "Copied Gong_Ruina to val dataset.\n",
            "Copied Chris_Cirino to val dataset.\n",
            "Copied Alfredo_Pena to val dataset.\n",
            "Copied Dusty_Baker to val dataset.\n",
            "Copied Cathryn_Crawford to val dataset.\n",
            "Copied Bob_Riley to val dataset.\n",
            "Copied Thomas_Fargo to val dataset.\n",
            "Copied Marcelo_Bielsa to val dataset.\n",
            "Copied Efrain_Rios_Montt to val dataset.\n",
            "Copied Carlos_Ortega to val dataset.\n",
            "Copied 129_frontal to val dataset.\n",
            "Copied Cristian_Barros to val dataset.\n",
            "Copied Tom_Welch to val dataset.\n",
            "Copied Salma_Hayek to val dataset.\n",
            "Copied Timbul_Silaen to val dataset.\n",
            "Copied Leslie_Wiser_Jr to val dataset.\n",
            "Copied Silvie_Cabero to val dataset.\n",
            "Copied Mikulas_Dzurinda to val dataset.\n",
            "Copied Karen_Allen to val dataset.\n",
            "Copied 100_frontal to val dataset.\n",
            "Copied Jack_Welch to val dataset.\n",
            "Copied Annette_Lu to val dataset.\n",
            "Copied Valery_Giscard_dEstaing to val dataset.\n",
            "Copied Rob_Moore to val dataset.\n",
            "Copied Russell_Crowe to val dataset.\n",
            "Copied Kathryn_Morris to val dataset.\n",
            "Copied Crispin_Glover to val dataset.\n",
            "Copied 043_frontal to val dataset.\n",
            "Copied Sergio_Vieira_De_Mello to val dataset.\n",
            "Copied Ruben_Studdard to val dataset.\n",
            "Copied Jimmy_Jimenez to val dataset.\n",
            "Copied 016_frontal to val dataset.\n",
            "Copied Jeremy_Shockey to val dataset.\n",
            "Copied Pete_Sampras to val dataset.\n",
            "Copied Eric_Wedge to val dataset.\n",
            "Copied Daniel_Barenboim to val dataset.\n",
            "Copied 081_frontal to val dataset.\n",
            "Copied Chante_Jawan_Mallard to val dataset.\n",
            "Copied Seymour_Cassell to val dataset.\n",
            "Copied Narendra_Modi to val dataset.\n",
            "Copied Amy_Pascal to val dataset.\n",
            "Copied Jim_Harrick to val dataset.\n",
            "Copied Flor_Montulo to val dataset.\n",
            "Copied Chris_Rock to val dataset.\n",
            "Copied Denise_Johnson to val dataset.\n",
            "Copied Ryan_Goodman to val dataset.\n",
            "Copied Dario_Franchitti to val dataset.\n",
            "Copied Bill_Pryor to val dataset.\n",
            "Copied Patricia_Johnson to val dataset.\n",
            "Copied 099_frontal to val dataset.\n",
            "Copied Larry_Beinfest to val dataset.\n",
            "Copied Wu_Yi to val dataset.\n",
            "Copied Gabriel_Hughes to val dataset.\n",
            "Copied Aaron_Pena to val dataset.\n",
            "Copied Dai_Chul_Chyung to val dataset.\n",
            "Copied Stellan_Skarsgard to val dataset.\n",
            "Copied Shireen_Amir_Begum to val dataset.\n",
            "Copied Ralph_Sampson to val dataset.\n",
            "Copied Alex_King to val dataset.\n",
            "Copied Teri_Files to val dataset.\n",
            "Copied Jamie_Villafane to val dataset.\n",
            "Copied Samantha_Daniels to val dataset.\n",
            "Copied Rosario_Dawson to val dataset.\n",
            "Copied Ismail_Cem to val dataset.\n",
            "Copied 076_frontal to val dataset.\n",
            "Copied Chung_Mong-hun to val dataset.\n",
            "Copied Alexandra_Jackson to val dataset.\n",
            "Copied John_Eder to val dataset.\n",
            "Copied Robert_Pollack to val dataset.\n",
            "Copied Jorge_Moreno to val dataset.\n",
            "Copied Conchita_Martinez to val dataset.\n",
            "Copied Aline_Chretien to val dataset.\n",
            "Copied Dan_Wheldon to val dataset.\n",
            "Copied Bob_Guccione to val dataset.\n",
            "Copied Jim_Carrey to val dataset.\n",
            "Copied Habib_Rizieq to val dataset.\n",
            "Copied Gore_Vidal to val dataset.\n",
            "Copied Princess_Anne to val dataset.\n",
            "Copied James_Mathis to val dataset.\n",
            "Copied Stanley_McChrystal to val dataset.\n",
            "Copied Ted_Christopher to val dataset.\n",
            "Copied Leander_Paes to val dataset.\n",
            "Copied Barbara_Becker to val dataset.\n",
            "Copied Magda_Kertasz to val dataset.\n",
            "Copied Cemil_Cicek to val dataset.\n",
            "Copied Carla_Gay_Balingit to val dataset.\n",
            "Copied Mike_Helton to val dataset.\n",
            "Copied Corinna_Harfouch to val dataset.\n",
            "Copied Atiabet_Ijan_Amabel to val dataset.\n",
            "Copied 106_frontal to val dataset.\n",
            "Copied Mark_Andrew to val dataset.\n",
            "Copied Valentino_Rossi to val dataset.\n",
            "Copied Patrick_Stewart to val dataset.\n",
            "Copied Evan_Marriott to val dataset.\n",
            "Copied Javier_Saviola to val dataset.\n",
            "Copied Sarah_Wynter to val dataset.\n",
            "Copied Abraham_Foxman to val dataset.\n",
            "Copied Wolfgang_Schwarz to val dataset.\n",
            "Copied David_Hanson to val dataset.\n",
            "Copied Cameron_Diaz to val dataset.\n",
            "Copied Agnelo_Queiroz to val dataset.\n",
            "Copied Hidetoshi_Nakata to val dataset.\n",
            "Copied Jesse_Helms to val dataset.\n",
            "Copied Marilyn_Monroe to val dataset.\n",
            "Copied Gary_Marshall to val dataset.\n",
            "Copied Bob_Geldof to val dataset.\n",
            "Copied Rick_Santorum to val dataset.\n",
            "Copied Princess_Victoria to val dataset.\n",
            "Copied E_Clay_Shaw to val dataset.\n",
            "Copied Sheila_Taormina to val dataset.\n",
            "Copied 012_frontal to val dataset.\n",
            "Copied Daniel_Chin to val dataset.\n",
            "Copied Rick_Romley to val dataset.\n",
            "Copied Christina_Sawaya to val dataset.\n",
            "Copied John_Gruden to val dataset.\n",
            "Copied Begum_Khaleda_Zia to val dataset.\n",
            "Copied Karl-Heinz_Rummenigge to val dataset.\n",
            "Copied Angel_Lockward to val dataset.\n",
            "Copied Hans_Leistritz to val dataset.\n",
            "Copied 031_frontal to val dataset.\n",
            "Copied Peter_Hillary to val dataset.\n",
            "Copied Miranda_Gaddis to val dataset.\n",
            "Copied Cho_Myung-kyun to val dataset.\n",
            "Copied Jim_Paxson to val dataset.\n",
            "Copied JP_Suarez to val dataset.\n",
            "Copied Juergen_Peters to val dataset.\n",
            "Copied 045_frontal to val dataset.\n",
            "Copied Nathalie_Baye to val dataset.\n",
            "Copied Laurence_Fishburne to val dataset.\n",
            "Copied Mitchell_McLaughlin to val dataset.\n",
            "Copied Claudia_Cardinale to val dataset.\n",
            "Copied Angie_Martinez to val dataset.\n",
            "Copied Nebojsa_Pavkovic to val dataset.\n",
            "Copied Pete_Beaudrault to val dataset.\n",
            "Copied Shane_Mosley to val dataset.\n",
            "Copied Charles_Richardson to val dataset.\n",
            "Copied Ana_Claudia_Talancon to val dataset.\n",
            "Copied Ryan_Nyquist to val dataset.\n",
            "Copied 085_frontal to val dataset.\n",
            "Copied Johnny_Depp to val dataset.\n",
            "Copied Jay_Garner to val dataset.\n",
            "Copied Richard_Naughton to val dataset.\n",
            "Copied Laura_Marlow to val dataset.\n",
            "Copied Karin_Pilsaeter to val dataset.\n",
            "Copied Antonio_Palocci to val dataset.\n",
            "Copied Ignatius_Wang to val dataset.\n",
            "Copied Sean_Patrick_OMalley to val dataset.\n",
            "Copied Mike_Sweeney to val dataset.\n",
            "Copied Billy_Tibbets to val dataset.\n",
            "Copied 027_frontal to val dataset.\n",
            "Copied Anthony_Pisciotti to val dataset.\n",
            "Copied Rita_Moreno to val dataset.\n",
            "Copied 125_frontal to val dataset.\n",
            "Copied Bob_Bowlsby to val dataset.\n",
            "Copied Rodney_Dangerfield to val dataset.\n",
            "Copied Slobodan_Milosevic to val dataset.\n",
            "Copied 110_frontal to val dataset.\n",
            "Copied Ian_Wilmut to val dataset.\n",
            "Copied Jon_Gruden to val dataset.\n",
            "Copied Gwendal_Peizerat to val dataset.\n",
            "Copied Chang_Jae_On to val dataset.\n",
            "Copied Dave_Lewis to val dataset.\n",
            "Copied Alan_Tang_Kwong-wing to val dataset.\n",
            "Copied Giulietta_Masina to val dataset.\n",
            "Copied Jerry_Regier to val dataset.\n",
            "Copied Federico_Trillo to val dataset.\n",
            "Copied Jodie_Henry to val dataset.\n",
            "Copied Dorthy_Moxley to val dataset.\n",
            "Copied Benicio_Del_Toro to val dataset.\n",
            "Copied Robert_Ehrlich to val dataset.\n",
            "Copied Tom_Rouen to val dataset.\n",
            "Copied Thomas_OBrien to val dataset.\n",
            "Copied Kevin_James to val dataset.\n",
            "Copied Reginald_Hudlin to val dataset.\n",
            "Copied Ciro_Gomes to val dataset.\n",
            "Copied William_Webster to val dataset.\n",
            "Copied Martin_Cauchon to val dataset.\n",
            "Copied Ralf_Schumacher to val dataset.\n",
            "Copied Andy_North to val dataset.\n",
            "Copied Tim_Curry to val dataset.\n",
            "Copied Jeannette_Biedermann to val dataset.\n",
            "Copied Jerry_Pauley to val dataset.\n",
            "Copied Frank_Lautenberg to val dataset.\n",
            "Copied Rodrigo_de_la_Cerna to val dataset.\n",
            "Copied Peter_Shaw to val dataset.\n",
            "Copied Helio_Castroneves to val dataset.\n",
            "Copied Daniele_Hypolito to val dataset.\n",
            "Copied George_Lopez to val dataset.\n",
            "Copied Jen_Schefft to val dataset.\n",
            "Copied Jason_Gardner to val dataset.\n",
            "Copied Elin_Nordegren to val dataset.\n",
            "Copied Celso_Lafer to val dataset.\n",
            "Copied Annie_Machon to val dataset.\n",
            "Copied James_Meredeth to val dataset.\n",
            "Copied Lyle_Vanclief to val dataset.\n",
            "Copied Luc_Montagnier to val dataset.\n",
            "Copied Al_Gore to val dataset.\n",
            "Copied Alexandra_Spann to val dataset.\n",
            "Copied Kevin_Garnett to val dataset.\n",
            "Copied Sophie to val dataset.\n",
            "Copied Tina_Brown to val dataset.\n",
            "Copied Michael_Chang to val dataset.\n",
            "Copied Ascencion_Barajas to val dataset.\n",
            "Copied Svend_Aage_Jensby to val dataset.\n",
            "Copied Catherine_Ndereba to val dataset.\n",
            "Copied Jose_Theodore to val dataset.\n",
            "Copied Anna_Chicherova to val dataset.\n",
            "Copied Florencia_Macri to val dataset.\n",
            "Copied Rosemarie_Stack to val dataset.\n",
            "Copied 020_frontal to val dataset.\n",
            "Copied Patricia_Heaton to val dataset.\n",
            "Copied Anne_ONeil to val dataset.\n",
            "Copied Roger_Mahony to val dataset.\n",
            "Copied 087_frontal to val dataset.\n",
            "Copied Din_Samsudin to val dataset.\n",
            "Copied Sean_Townsend to val dataset.\n",
            "Copied 059_frontal to val dataset.\n",
            "Copied Colleen_Jones to val dataset.\n",
            "Copied Todd_Petit to val dataset.\n",
            "Copied Joe_Dicaro to val dataset.\n",
            "Copied Jim_Leach to val dataset.\n",
            "Copied Hushiar_Zebari to val dataset.\n",
            "Copied Alastair_Johnston to val dataset.\n",
            "Copied Michael_Kahn to val dataset.\n",
            "Copied Penelope_Ann_Miller to val dataset.\n",
            "Copied Milo_Maestrecampo to val dataset.\n",
            "Copied Linda_Amicangioli to val dataset.\n",
            "Copied 002_frontal to val dataset.\n",
            "Copied Aaron_Patterson to val dataset.\n",
            "Copied Michelle_Hofland to val dataset.\n",
            "Copied Jeff_George to val dataset.\n",
            "Copied Edward_Belvin to val dataset.\n",
            "Copied Cristina_Torrens_Valero to val dataset.\n",
            "Copied Noer_Moeis to val dataset.\n",
            "Copied Tom_Coughlin to val dataset.\n",
            "Copied Mario_Lemieux to val dataset.\n",
            "Copied Luis_Gonzalez_Macchi to val dataset.\n",
            "Copied Louis_Van_Gaal to val dataset.\n",
            "Copied Darin_Erstad to val dataset.\n",
            "Copied Hans_Peter_Briegel to val dataset.\n",
            "Copied Pascal_Rheaume to val dataset.\n",
            "Copied Mary_Descenza to val dataset.\n",
            "Copied Andrea_Kiser to val dataset.\n",
            "Copied Janette_Husarova to val dataset.\n",
            "Copied Iran_Brown to val dataset.\n",
            "Copied Carlos_Savedra to val dataset.\n",
            "Copied Chea_Sophara to val dataset.\n",
            "Copied Ed_Book to val dataset.\n",
            "Copied Patrice_Chereau to val dataset.\n",
            "Copied Moshe_Katsav to val dataset.\n",
            "Copied James_Ballenger to val dataset.\n",
            "Copied Bob_Stoops to val dataset.\n",
            "Copied Darryl_Stingley to val dataset.\n",
            "Copied 117_frontal to val dataset.\n",
            "Copied Larry_Brown to val dataset.\n",
            "Copied Afton_Smith to val dataset.\n",
            "Copied Emyr_Jones_Parry to val dataset.\n",
            "Copied Natalia_Verbeke to val dataset.\n",
            "Copied Billy_Sollie to val dataset.\n",
            "Copied Chuck_Eidson to val dataset.\n",
            "Copied 103_frontal to val dataset.\n",
            "Copied James_Parker to val dataset.\n",
            "Copied 093_frontal to val dataset.\n",
            "Copied Trisha_Meili to val dataset.\n",
            "Copied Suzie_McConnell_Serio to val dataset.\n",
            "Copied Alexandra_Pelosi to val dataset.\n",
            "Copied Scott_McNealy to val dataset.\n",
            "Copied James_Blake to val dataset.\n",
            "Copied Justine_Pasek to val dataset.\n",
            "Copied 118_frontal to val dataset.\n",
            "Copied Janine_Pietsch to val dataset.\n",
            "Copied John_McCallum to val dataset.\n",
            "Copied 005_frontal to val dataset.\n",
            "Copied Alonzo_Mourning to val dataset.\n",
            "Copied Brendan_Hansen to val dataset.\n",
            "Copied Tim_Duncan to val dataset.\n",
            "Copied Tom_Glavine to val dataset.\n",
            "Copied Fazal-ur-Rehman to val dataset.\n",
            "Copied Sue_Wicks to val dataset.\n",
            "Copied Francois_Pienaar to val dataset.\n",
            "Copied Robert_Duvall to val dataset.\n",
            "Copied Nelson_Shanks to val dataset.\n",
            "Copied Drew_Barrymore to val dataset.\n",
            "Copied 063_frontal to val dataset.\n",
            "Copied Maurice_Papon to val dataset.\n",
            "Copied Eli_Broad to val dataset.\n",
            "Copied David_Przybyszewski to val dataset.\n",
            "Copied Diana_Renee_Valdivieso_Dubon to val dataset.\n",
            "Copied 082_frontal to val dataset.\n",
            "Copied Kaio_Almeida to val dataset.\n",
            "Copied Paulina_Rodriguez_Davila to val dataset.\n",
            "Copied Paul_Newman to val dataset.\n",
            "Copied Hermando_Harton to val dataset.\n",
            "Copied Larry_Anderson to val dataset.\n",
            "Copied Hun_Sen to val dataset.\n",
            "Copied Donna_Morrissey to val dataset.\n",
            "Copied Alex_Gonzalez to val dataset.\n",
            "Copied Elizabeth_Shue to val dataset.\n",
            "Copied Masja_Juel to val dataset.\n",
            "Copied Kristin_Scott to val dataset.\n",
            "Copied Nick_Nolte to val dataset.\n",
            "Copied Clive_Lloyd to val dataset.\n",
            "Copied 119_frontal to val dataset.\n",
            "Copied Strom_Thurmond to val dataset.\n",
            "Copied Nancy_Greenlaw to val dataset.\n",
            "Copied Erwin_Mapasseng to val dataset.\n",
            "Copied LK_Advani to val dataset.\n",
            "Copied Dean_Barkley to val dataset.\n",
            "Copied Wang_Hailan to val dataset.\n",
            "Copied Charles_Lebois to val dataset.\n",
            "Copied 060_frontal to val dataset.\n",
            "Copied Joe_Plumeri to val dataset.\n",
            "Copied John_Kerry to val dataset.\n",
            "Copied Wang_Nan to val dataset.\n",
            "Copied Marcelo_Ebrard to val dataset.\n",
            "Copied Catherine_Deneuve to val dataset.\n",
            "Copied Eric_Vigouroux to val dataset.\n",
            "Copied Nida_Blanca to val dataset.\n",
            "Copied 124_frontal to val dataset.\n",
            "Copied 109_frontal to val dataset.\n",
            "Copied John_Mayer to val dataset.\n",
            "Copied Greg_Hennigar to val dataset.\n",
            "Copied Orlando_Bloom to val dataset.\n",
            "Copied 051_frontal to val dataset.\n",
            "Copied Sureyya_Ayhan to val dataset.\n",
            "Copied Samuel_Waksal to val dataset.\n",
            "Copied 010_frontal to val dataset.\n",
            "Copied 013_frontal to val dataset.\n",
            "Copied David_Dorfman to val dataset.\n",
            "Copied Horace_Donovan_Reid to val dataset.\n",
            "Copied Antonio_Elias_Saca to val dataset.\n",
            "Copied Greg_Ostertag to val dataset.\n",
            "Copied Steve_Austin to val dataset.\n",
            "Copied Tom_Ridge to val dataset.\n",
            "Copied Roger_Staubach to val dataset.\n",
            "Copied Steve_Blake to val dataset.\n",
            "Copied Milton_Berle to val dataset.\n",
            "Copied Gary_Locke to val dataset.\n",
            "Copied Moby to val dataset.\n",
            "Copied Bulent_Ecevit to val dataset.\n",
            "Copied Jeanne_Moreau to val dataset.\n",
            "Copied Tom_Hanks to val dataset.\n",
            "Copied Omar_el-Heib to val dataset.\n",
            "Copied Rick_Bragg to val dataset.\n",
            "Copied 001_frontal to val dataset.\n",
            "Copied Gene_Sauers to val dataset.\n",
            "Copied Linus_Roache to val dataset.\n",
            "Copied Katalin_Kollat to val dataset.\n",
            "Copied Mariah_Carey to val dataset.\n",
            "Copied Dave_Odom to val dataset.\n",
            "Copied 039_frontal to val dataset.\n",
            "Copied Donald_Keck to val dataset.\n",
            "Copied Teresa_Heinz_Kerry to val dataset.\n",
            "Copied S_Jayakumar to val dataset.\n",
            "Copied Rohinton_Mistry to val dataset.\n",
            "Copied Tommy_Shane_Steiner to val dataset.\n",
            "Copied Queen_Beatrix to val dataset.\n",
            "Copied Bill_Belichick to val dataset.\n",
            "Copied Mohammad_Al-Sharief to val dataset.\n",
            "Copied 032_frontal to val dataset.\n",
            "Copied Lela_Rochon to val dataset.\n",
            "Copied Alfred_Ford to val dataset.\n",
            "Copied Pat_Burns to val dataset.\n",
            "Copied Mark_Gangloff to val dataset.\n",
            "Copied Mary_Matalin to val dataset.\n",
            "Copied Jacqueline_Obradors to val dataset.\n",
            "Copied 122_frontal to val dataset.\n",
            "Copied Justin_Wilson to val dataset.\n",
            "Copied Brandon_Knight to val dataset.\n",
            "Copied William_Morrow to val dataset.\n",
            "Copied John_Connolly to val dataset.\n",
            "Copied 011_frontal to val dataset.\n",
            "Copied Aaron_Guiel to val dataset.\n",
            "Copied Steve_Mariucci to val dataset.\n",
            "Copied Alan_Ball to val dataset.\n",
            "Copied Rick_Bland to val dataset.\n",
            "Copied Jim_Ahern to val dataset.\n",
            "Copied Tono_Suratman to val dataset.\n",
            "Copied Michael_Donovan to val dataset.\n",
            "Copied Hussam_Mohammed_Amin to val dataset.\n",
            "Copied Sasha_Alexander to val dataset.\n",
            "Copied Atsushi_Sato to val dataset.\n",
            "Copied Oscar_De_La_Hoya to val dataset.\n",
            "Copied Enrique_Iglesias to val dataset.\n",
            "Copied Lindy_Ruff to val dataset.\n",
            "Copied Phillipe_Comtois to val dataset.\n",
            "Copied Lawrence_Di_Rita to val dataset.\n",
            "Copied Christian_Longo to val dataset.\n",
            "Copied Brian_Scalabrine to val dataset.\n",
            "Copied Joe_Cocker to val dataset.\n",
            "Copied Andrew_Bernard to val dataset.\n",
            "Copied Nadia_Forte to val dataset.\n",
            "Copied Cassandra_Heise to val dataset.\n",
            "Copied Keith_Foulke to val dataset.\n",
            "Copied Leonard_Glick to val dataset.\n",
            "Copied Michael_Leavitt to val dataset.\n",
            "Copied Selma_Phoenix to val dataset.\n",
            "Copied Charlie_Hunnam to val dataset.\n",
            "Copied Geovani_Lapentti to val dataset.\n",
            "Copied Emmanuel_Milingo to val dataset.\n",
            "Copied Chris_Kolanas to val dataset.\n",
            "Copied Derrick_Battie to val dataset.\n",
            "Copied 007_frontal to val dataset.\n",
            "Copied Kristanna_Loken to val dataset.\n",
            "Copied Chris_Moore to val dataset.\n",
            "Copied Fred_Funk to val dataset.\n",
            "Copied 053_frontal to val dataset.\n",
            "Copied Hwang_Doo-yun to val dataset.\n",
            "Copied Tom_Cruise to val dataset.\n",
            "Copied Bernard_Kerik to val dataset.\n",
            "Copied Scott_Wallach to val dataset.\n",
            "Copied Maryn_McKenna to val dataset.\n",
            "Copied Hugo_Chavez to val dataset.\n",
            "Copied Phil_McGraw to val dataset.\n",
            "Copied Maritza_Macias_Furano to val dataset.\n",
            "Copied Donald_Pettit to val dataset.\n",
            "Copied 066_frontal to val dataset.\n",
            "Copied 096_frontal to val dataset.\n",
            "Copied Ahmad_Masood to val dataset.\n",
            "Copied Diane_Ladd to val dataset.\n",
            "Copied Stipe_Mesic to val dataset.\n",
            "Copied Elgin_Baylor to val dataset.\n",
            "Copied 028_frontal to val dataset.\n",
            "Copied Robert_Bullock to val dataset.\n",
            "Copied Martha_Burk to val dataset.\n",
            "Copied Bryant_Young to val dataset.\n",
            "Copied Mohammed_Ashraf_Hafiz to val dataset.\n",
            "Copied Asif_Ali_Zardari to val dataset.\n",
            "Copied John_Edwards to val dataset.\n",
            "Copied Malcolm_Glazer to val dataset.\n",
            "Copied Douglas_Paal to val dataset.\n",
            "Copied Shoshannah_Stern to val dataset.\n",
            "Copied Martha_Bowen to val dataset.\n",
            "Copied Martin_Boryczewski to val dataset.\n",
            "Copied Peter_Mackay to val dataset.\n",
            "Copied Vanessa_Williams to val dataset.\n",
            "Copied Natalie_Juniardi to val dataset.\n",
            "Copied 019_frontal to val dataset.\n",
            "Copied Maureen_Fanning to val dataset.\n",
            "Copied Anne_Cavers to val dataset.\n",
            "Copied Garry_McCoy to val dataset.\n",
            "Copied Klaus_Zwickel to val dataset.\n",
            "Copied Laura_Elena_Harring to val dataset.\n",
            "Copied Gregorio_Honasan to val dataset.\n",
            "Copied Elinor_Caplan to val dataset.\n",
            "Copied Sue_Grafton to val dataset.\n",
            "Copied Aishwarya_Rai to val dataset.\n",
            "Copied Leon_Silver to val dataset.\n",
            "Copied Simona_Hradil to val dataset.\n",
            "Copied Johnny_Unitas to val dataset.\n",
            "Copied 003_frontal to val dataset.\n",
            "Copied 014_frontal to val dataset.\n",
            "Copied Oswaldo_Paya to val dataset.\n",
            "Copied Carson_Palmer to val dataset.\n",
            "Copied Cynthia_Rowley to val dataset.\n",
            "Copied Shannon_OBrien to val dataset.\n",
            "Copied Kurt_Hellstrom to val dataset.\n",
            "Copied Irwan_Fadzi_Idris to val dataset.\n",
            "Copied Roger_Cook to val dataset.\n",
            "Copied 067_frontal to val dataset.\n",
            "Copied Stephen_Glassroth to val dataset.\n",
            "Copied Gianni_Agnelli to val dataset.\n",
            "Copied Suzanne_Mubarak to val dataset.\n",
            "Copied Jeremy_Fogel to val dataset.\n",
            "Copied Matt_Roney to val dataset.\n",
            "Copied Fernando_Leon_de_Aranoa to val dataset.\n",
            "Copied Alberto_Fujimori to val dataset.\n",
            "Copied Juan_Carlos_Ortega to val dataset.\n",
            "Copied Richard_Tubb to val dataset.\n",
            "Copied Jim_Sterk to val dataset.\n",
            "Copied Vicente_Fox_de_la_Concha to val dataset.\n",
            "Copied 056_frontal to val dataset.\n",
            "Copied Gregg_Popovich to val dataset.\n",
            "Copied 064_frontal to val dataset.\n",
            "Copied Gennifer_Flowers to val dataset.\n",
            "Copied Beyonce_Knowles to val dataset.\n",
            "Copied 054_frontal to val dataset.\n",
            "Copied Babe_Ruth to val dataset.\n",
            "Copied Jody_Richards to val dataset.\n",
            "Copied William_Burns to val dataset.\n",
            "Copied Maha_Habib to val dataset.\n",
            "Copied Charles_Schumer to val dataset.\n",
            "Copied Gary_Gitnick to val dataset.\n",
            "Copied 115_frontal to val dataset.\n",
            "Copied 113_frontal to val dataset.\n",
            "Copied Frank_Schmoekel to val dataset.\n",
            "Copied Edgar_Savisaar to val dataset.\n",
            "Copied Ali_Fallahian to val dataset.\n",
            "Copied Suzanne_Haik_Terrell to val dataset.\n",
            "Copied Tony_Stewart to val dataset.\n",
            "Copied Jeffrey_Ashby to val dataset.\n",
            "Copied Roger_Clemens to val dataset.\n",
            "Copied Shawn_Bradley to val dataset.\n",
            "Copied Brigitte_Boisselier to val dataset.\n",
            "Copied Lin_Yung_Hsi to val dataset.\n",
            "Copied Jane_Krakowski to val dataset.\n",
            "Copied Isidro_Pastor to val dataset.\n",
            "Copied Charlene_Barshefsky to val dataset.\n",
            "Copied Tammy_Helm to val dataset.\n",
            "Copied Shannyn_Sossamon to val dataset.\n",
            "Copied Andy_Warhol to val dataset.\n",
            "Copied Roman_Tam to val dataset.\n",
            "Copied Martin_Bandier to val dataset.\n",
            "Copied Harvey_Fierstein to val dataset.\n",
            "Copied 114_frontal to val dataset.\n",
            "Copied David_Kelly to val dataset.\n",
            "Copied Ilan_Ramon to val dataset.\n",
            "Copied 036_frontal to val dataset.\n",
            "Copied Diane_Lane to val dataset.\n",
            "Copied Gerard_Butler to val dataset.\n",
            "Copied Frederique_van_der_Wal to val dataset.\n",
            "Copied Matt_Siebrandt to val dataset.\n",
            "Copied Yasushi_Akashi to val dataset.\n",
            "Copied Allen_Rock to val dataset.\n",
            "Copied Donna_Walker to val dataset.\n",
            "Copied Patricia_Hearst to val dataset.\n",
            "Copied Lucy_Liu to val dataset.\n",
            "Copied Andrea_Yates to val dataset.\n",
            "Copied Turner_Gill to val dataset.\n",
            "Copied Annette_Bening to val dataset.\n",
            "Copied Abdullatif_Sener to val dataset.\n",
            "Copied Tom_Miller to val dataset.\n",
            "Copied Julian_Battle to val dataset.\n",
            "Copied Katrin_Susi to val dataset.\n",
            "Copied Charles_Mathews to val dataset.\n",
            "Copied Anette_Hosoi to val dataset.\n",
            "Copied Graeme_Smith to val dataset.\n",
            "Copied 072_frontal to val dataset.\n",
            "Copied Guillermo_Ruiz_Polanco to val dataset.\n",
            "Copied Jean-Pierre_Raffarin to val dataset.\n",
            "Copied 044_frontal to val dataset.\n",
            "Copied Roberto_Carlos to val dataset.\n",
            "Copied Emily_Mason to val dataset.\n",
            "Copied Stephen_Thompson to val dataset.\n",
            "Copied Heidi_Fleiss to val dataset.\n",
            "Copied Mario_Puzo to val dataset.\n",
            "Copied Jacqueline_Gold to val dataset.\n",
            "Copied Adriana_Perez_Navarro to val dataset.\n",
            "Copied Katie_Couric to val dataset.\n",
            "Copied 092_frontal to val dataset.\n",
            "Copied Kurt_Warner to val dataset.\n",
            "Copied Tony_Curtis to val dataset.\n",
            "Copied Michael_McNeely to val dataset.\n",
            "Copied Jennifer_Furminger to val dataset.\n",
            "Copied 071_frontal to val dataset.\n",
            "Copied Ed_Case to val dataset.\n",
            "Copied Brandon_Robinson to val dataset.\n",
            "Copied 086_frontal to val dataset.\n",
            "Copied Sarah_Price to val dataset.\n",
            "Copied Amanda_Beard to val dataset.\n",
            "Copied Debra_Brown to val dataset.\n",
            "Copied Derek_Jeter to val dataset.\n",
            "Copied Ted_Williams to val dataset.\n",
            "Copied Serge_Klarsfeld to val dataset.\n",
            "Copied Allen_Iverson to val dataset.\n",
            "Copied Karin_Stoiber to val dataset.\n",
            "Copied Al_Leiter to val dataset.\n",
            "Copied Colin_Powell to val dataset.\n",
            "Copied Phillip_Fulmer to val dataset.\n",
            "Copied Mitchell_Crooks to val dataset.\n",
            "✅ All missing classes copied.\n"
          ]
        }
      ]
    },
    {
      "cell_type": "code",
      "source": [
        "# Imports\n",
        "import os\n",
        "import torch\n",
        "import torch.nn as nn\n",
        "import torch.optim as optim\n",
        "from torchvision import datasets, transforms, models\n",
        "from torch.utils.data import DataLoader\n",
        "from tqdm import tqdm\n",
        "import numpy as np\n",
        "\n",
        "device = torch.device(\"cuda\" if torch.cuda.is_available() else \"cpu\")\n",
        "print(f\"Using device: {device}\")\n"
      ],
      "metadata": {
        "colab": {
          "base_uri": "https://localhost:8080/"
        },
        "id": "EdlMJjcg4vfS",
        "outputId": "5bc1eb04-7483-44c6-9adc-4770e388c92d"
      },
      "execution_count": 3,
      "outputs": [
        {
          "output_type": "stream",
          "name": "stdout",
          "text": [
            "Using device: cuda\n"
          ]
        }
      ]
    },
    {
      "cell_type": "code",
      "source": [
        "transform_train = transforms.Compose([\n",
        "    transforms.RandomResizedCrop(224),\n",
        "    transforms.RandomHorizontalFlip(),\n",
        "    transforms.ColorJitter(brightness=0.4, contrast=0.4, saturation=0.4, hue=0.1),\n",
        "    transforms.RandomApply([transforms.GaussianBlur(3)], p=0.3),\n",
        "    transforms.RandomAffine(degrees=10, translate=(0.1,0.1)),\n",
        "    transforms.ToTensor(),\n",
        "    transforms.Normalize([0.485,0.456,0.406], [0.229,0.224,0.225])\n",
        "])\n",
        "\n",
        "transform_val = transforms.Compose([\n",
        "    transforms.Resize((224,224)),\n",
        "    transforms.ToTensor(),\n",
        "    transforms.Normalize([0.485,0.456,0.406], [0.229,0.224,0.225])\n",
        "])"
      ],
      "metadata": {
        "id": "I3LFuKS143IZ"
      },
      "execution_count": 4,
      "outputs": []
    },
    {
      "cell_type": "code",
      "source": [
        "taskB_train_dir = \"/content/Comys_Hackathon5/Task_B/train\"\n",
        "taskB_val_dir   = \"/content/Comys_Hackathon5/Task_B/val\"\n"
      ],
      "metadata": {
        "id": "BLlwx13X456X"
      },
      "execution_count": 5,
      "outputs": []
    },
    {
      "cell_type": "code",
      "source": [
        "# =======================================\n",
        "taskB_train_ds = datasets.ImageFolder(taskB_train_dir, transform=transform_train)\n",
        "taskB_val_ds   = datasets.ImageFolder(taskB_val_dir, transform=transform_val)\n",
        "\n",
        "taskB_train_loader = DataLoader(taskB_train_ds, batch_size=32, shuffle=True, num_workers=2)\n",
        "taskB_val_loader   = DataLoader(taskB_val_ds, batch_size=32, shuffle=False, num_workers=2)\n",
        "\n",
        "num_classes_B = len(taskB_train_ds.classes)\n",
        "print(f\"Number of person identities: {num_classes_B}\")"
      ],
      "metadata": {
        "colab": {
          "base_uri": "https://localhost:8080/"
        },
        "id": "iH4O4wos48nN",
        "outputId": "5bb5dec9-e238-4b32-f684-84cef7bf82d6"
      },
      "execution_count": 6,
      "outputs": [
        {
          "output_type": "stream",
          "name": "stdout",
          "text": [
            "Number of person identities: 877\n"
          ]
        }
      ]
    },
    {
      "cell_type": "code",
      "source": [
        "def create_model(num_classes):\n",
        "    model = models.resnet18(weights='IMAGENET1K_V1')\n",
        "    model.fc = nn.Linear(model.fc.in_features, num_classes)\n",
        "    return model.to(device)\n",
        "\n",
        "model = create_model(num_classes_B)"
      ],
      "metadata": {
        "colab": {
          "base_uri": "https://localhost:8080/"
        },
        "id": "ALXDc0CN4_Lj",
        "outputId": "bbe18c5c-2c83-40a3-f482-8d4cd880cbd6"
      },
      "execution_count": 7,
      "outputs": [
        {
          "output_type": "stream",
          "name": "stderr",
          "text": [
            "Downloading: \"https://download.pytorch.org/models/resnet18-f37072fd.pth\" to /root/.cache/torch/hub/checkpoints/resnet18-f37072fd.pth\n",
            "100%|██████████| 44.7M/44.7M [00:00<00:00, 176MB/s]\n"
          ]
        }
      ]
    },
    {
      "cell_type": "code",
      "source": [
        "criterion = nn.CrossEntropyLoss()\n",
        "optimizer = optim.Adam(model.parameters(), lr=1e-4)\n",
        "\n",
        "def evaluate_model(model, data_loader):\n",
        "    model.eval()\n",
        "    correct, total = 0, 0\n",
        "    with torch.no_grad():\n",
        "        for images, labels in data_loader:\n",
        "            images, labels = images.to(device), labels.to(device)\n",
        "            outputs = model(images)\n",
        "            _, predicted = outputs.max(1)\n",
        "            total += labels.size(0)\n",
        "            correct += predicted.eq(labels).sum().item()\n",
        "    return correct / total\n",
        "\n",
        "def train_model(model, train_loader, val_loader, num_epochs=10):\n",
        "    for epoch in range(num_epochs):\n",
        "        model.train()\n",
        "        running_loss, correct, total = 0.0, 0, 0\n",
        "        for images, labels in tqdm(train_loader, desc=f\"Epoch {epoch+1}/{num_epochs}\"):\n",
        "            images, labels = images.to(device), labels.to(device)\n",
        "\n",
        "            optimizer.zero_grad()\n",
        "            outputs = model(images)\n",
        "            loss = criterion(outputs, labels)\n",
        "            loss.backward()\n",
        "            optimizer.step()\n",
        "\n",
        "            running_loss += loss.item() * images.size(0)\n",
        "            _, predicted = outputs.max(1)\n",
        "            total += labels.size(0)\n",
        "            correct += predicted.eq(labels).sum().item()\n",
        "\n",
        "        train_acc = correct / total\n",
        "        val_acc = evaluate_model(model, val_loader)\n",
        "        print(f\"[{epoch+1}/{num_epochs}] Train Loss: {running_loss/total:.4f} | Train Acc: {train_acc:.4f} | Val Acc: {val_acc:.4f}\")"
      ],
      "metadata": {
        "id": "N3JT-gGq5Cu9"
      },
      "execution_count": 8,
      "outputs": []
    },
    {
      "cell_type": "code",
      "source": [
        "print(\"\\n🟢 Training Task B: Face Recognition\")\n",
        "train_model(model, taskB_train_loader, taskB_val_loader, num_epochs=50)"
      ],
      "metadata": {
        "colab": {
          "base_uri": "https://localhost:8080/"
        },
        "id": "yjuD9pdP5GtD",
        "outputId": "86ee7fc5-3103-4461-e40e-9d626f475649"
      },
      "execution_count": null,
      "outputs": [
        {
          "output_type": "stream",
          "name": "stdout",
          "text": [
            "\n",
            "🟢 Training Task B: Face Recognition\n"
          ]
        },
        {
          "output_type": "stream",
          "name": "stderr",
          "text": [
            "Epoch 1/50: 100%|██████████| 482/482 [03:09<00:00,  2.54it/s]\n"
          ]
        },
        {
          "output_type": "stream",
          "name": "stdout",
          "text": [
            "[1/50] Train Loss: 5.4765 | Train Acc: 0.1774 | Val Acc: 0.0006\n"
          ]
        },
        {
          "output_type": "stream",
          "name": "stderr",
          "text": [
            "Epoch 2/50: 100%|██████████| 482/482 [03:05<00:00,  2.60it/s]\n"
          ]
        },
        {
          "output_type": "stream",
          "name": "stdout",
          "text": [
            "[2/50] Train Loss: 4.3170 | Train Acc: 0.2912 | Val Acc: 0.0009\n"
          ]
        },
        {
          "output_type": "stream",
          "name": "stderr",
          "text": [
            "Epoch 3/50: 100%|██████████| 482/482 [03:06<00:00,  2.59it/s]\n"
          ]
        },
        {
          "output_type": "stream",
          "name": "stdout",
          "text": [
            "[3/50] Train Loss: 3.4403 | Train Acc: 0.3916 | Val Acc: 0.0011\n"
          ]
        },
        {
          "output_type": "stream",
          "name": "stderr",
          "text": [
            "Epoch 4/50: 100%|██████████| 482/482 [03:07<00:00,  2.58it/s]\n"
          ]
        },
        {
          "output_type": "stream",
          "name": "stdout",
          "text": [
            "[4/50] Train Loss: 2.7098 | Train Acc: 0.5149 | Val Acc: 0.0030\n"
          ]
        },
        {
          "output_type": "stream",
          "name": "stderr",
          "text": [
            "Epoch 5/50: 100%|██████████| 482/482 [03:03<00:00,  2.62it/s]\n"
          ]
        },
        {
          "output_type": "stream",
          "name": "stdout",
          "text": [
            "[5/50] Train Loss: 2.1107 | Train Acc: 0.6424 | Val Acc: 0.0032\n"
          ]
        },
        {
          "output_type": "stream",
          "name": "stderr",
          "text": [
            "Epoch 6/50: 100%|██████████| 482/482 [03:06<00:00,  2.58it/s]\n"
          ]
        },
        {
          "output_type": "stream",
          "name": "stdout",
          "text": [
            "[6/50] Train Loss: 1.6856 | Train Acc: 0.7286 | Val Acc: 0.0031\n"
          ]
        },
        {
          "output_type": "stream",
          "name": "stderr",
          "text": [
            "Epoch 7/50: 100%|██████████| 482/482 [03:05<00:00,  2.59it/s]\n"
          ]
        },
        {
          "output_type": "stream",
          "name": "stdout",
          "text": [
            "[7/50] Train Loss: 1.3600 | Train Acc: 0.7863 | Val Acc: 0.0036\n"
          ]
        },
        {
          "output_type": "stream",
          "name": "stderr",
          "text": [
            "Epoch 8/50: 100%|██████████| 482/482 [03:01<00:00,  2.66it/s]\n"
          ]
        },
        {
          "output_type": "stream",
          "name": "stdout",
          "text": [
            "[8/50] Train Loss: 1.1697 | Train Acc: 0.8094 | Val Acc: 0.0033\n"
          ]
        },
        {
          "output_type": "stream",
          "name": "stderr",
          "text": [
            "Epoch 9/50: 100%|██████████| 482/482 [03:05<00:00,  2.60it/s]\n"
          ]
        },
        {
          "output_type": "stream",
          "name": "stdout",
          "text": [
            "[9/50] Train Loss: 1.0085 | Train Acc: 0.8285 | Val Acc: 0.0037\n"
          ]
        },
        {
          "output_type": "stream",
          "name": "stderr",
          "text": [
            "Epoch 10/50: 100%|██████████| 482/482 [03:05<00:00,  2.61it/s]\n"
          ]
        },
        {
          "output_type": "stream",
          "name": "stdout",
          "text": [
            "[10/50] Train Loss: 0.8975 | Train Acc: 0.8434 | Val Acc: 0.0033\n"
          ]
        },
        {
          "output_type": "stream",
          "name": "stderr",
          "text": [
            "Epoch 11/50: 100%|██████████| 482/482 [03:04<00:00,  2.61it/s]\n"
          ]
        },
        {
          "output_type": "stream",
          "name": "stdout",
          "text": [
            "[11/50] Train Loss: 0.8474 | Train Acc: 0.8489 | Val Acc: 0.0036\n"
          ]
        },
        {
          "output_type": "stream",
          "name": "stderr",
          "text": [
            "Epoch 12/50: 100%|██████████| 482/482 [03:05<00:00,  2.60it/s]\n"
          ]
        },
        {
          "output_type": "stream",
          "name": "stdout",
          "text": [
            "[12/50] Train Loss: 0.7766 | Train Acc: 0.8599 | Val Acc: 0.0035\n"
          ]
        },
        {
          "output_type": "stream",
          "name": "stderr",
          "text": [
            "Epoch 13/50: 100%|██████████| 482/482 [03:06<00:00,  2.59it/s]\n"
          ]
        },
        {
          "output_type": "stream",
          "name": "stdout",
          "text": [
            "[13/50] Train Loss: 0.7033 | Train Acc: 0.8700 | Val Acc: 0.0035\n"
          ]
        },
        {
          "output_type": "stream",
          "name": "stderr",
          "text": [
            "Epoch 14/50: 100%|██████████| 482/482 [03:05<00:00,  2.60it/s]\n"
          ]
        },
        {
          "output_type": "stream",
          "name": "stdout",
          "text": [
            "[14/50] Train Loss: 0.6916 | Train Acc: 0.8692 | Val Acc: 0.0035\n"
          ]
        },
        {
          "output_type": "stream",
          "name": "stderr",
          "text": [
            "Epoch 15/50: 100%|██████████| 482/482 [03:05<00:00,  2.59it/s]\n"
          ]
        },
        {
          "output_type": "stream",
          "name": "stdout",
          "text": [
            "[15/50] Train Loss: 0.6510 | Train Acc: 0.8782 | Val Acc: 0.0031\n"
          ]
        },
        {
          "output_type": "stream",
          "name": "stderr",
          "text": [
            "Epoch 16/50: 100%|██████████| 482/482 [03:01<00:00,  2.66it/s]\n"
          ]
        },
        {
          "output_type": "stream",
          "name": "stdout",
          "text": [
            "[16/50] Train Loss: 0.6068 | Train Acc: 0.8810 | Val Acc: 0.0032\n"
          ]
        },
        {
          "output_type": "stream",
          "name": "stderr",
          "text": [
            "Epoch 17/50: 100%|██████████| 482/482 [03:00<00:00,  2.66it/s]\n"
          ]
        },
        {
          "output_type": "stream",
          "name": "stdout",
          "text": [
            "[17/50] Train Loss: 0.5861 | Train Acc: 0.8841 | Val Acc: 0.0036\n"
          ]
        },
        {
          "output_type": "stream",
          "name": "stderr",
          "text": [
            "Epoch 18/50: 100%|██████████| 482/482 [03:06<00:00,  2.59it/s]\n"
          ]
        },
        {
          "output_type": "stream",
          "name": "stdout",
          "text": [
            "[18/50] Train Loss: 0.5770 | Train Acc: 0.8877 | Val Acc: 0.0030\n"
          ]
        },
        {
          "output_type": "stream",
          "name": "stderr",
          "text": [
            "Epoch 19/50: 100%|██████████| 482/482 [03:07<00:00,  2.57it/s]\n"
          ]
        },
        {
          "output_type": "stream",
          "name": "stdout",
          "text": [
            "[19/50] Train Loss: 0.5580 | Train Acc: 0.8874 | Val Acc: 0.0030\n"
          ]
        },
        {
          "output_type": "stream",
          "name": "stderr",
          "text": [
            "Epoch 20/50: 100%|██████████| 482/482 [03:04<00:00,  2.61it/s]\n"
          ]
        },
        {
          "output_type": "stream",
          "name": "stdout",
          "text": [
            "[20/50] Train Loss: 0.5228 | Train Acc: 0.8951 | Val Acc: 0.0031\n"
          ]
        },
        {
          "output_type": "stream",
          "name": "stderr",
          "text": [
            "Epoch 21/50: 100%|██████████| 482/482 [03:04<00:00,  2.61it/s]\n"
          ]
        },
        {
          "output_type": "stream",
          "name": "stdout",
          "text": [
            "[21/50] Train Loss: 0.4885 | Train Acc: 0.9012 | Val Acc: 0.0030\n"
          ]
        },
        {
          "output_type": "stream",
          "name": "stderr",
          "text": [
            "Epoch 22/50: 100%|██████████| 482/482 [03:05<00:00,  2.60it/s]\n"
          ]
        },
        {
          "output_type": "stream",
          "name": "stdout",
          "text": [
            "[22/50] Train Loss: 0.5001 | Train Acc: 0.8963 | Val Acc: 0.0034\n"
          ]
        },
        {
          "output_type": "stream",
          "name": "stderr",
          "text": [
            "Epoch 23/50: 100%|██████████| 482/482 [03:03<00:00,  2.62it/s]\n"
          ]
        },
        {
          "output_type": "stream",
          "name": "stdout",
          "text": [
            "[23/50] Train Loss: 0.4745 | Train Acc: 0.9017 | Val Acc: 0.0033\n"
          ]
        },
        {
          "output_type": "stream",
          "name": "stderr",
          "text": [
            "Epoch 24/50: 100%|██████████| 482/482 [02:59<00:00,  2.69it/s]\n"
          ]
        },
        {
          "output_type": "stream",
          "name": "stdout",
          "text": [
            "[24/50] Train Loss: 0.4565 | Train Acc: 0.9056 | Val Acc: 0.0030\n"
          ]
        },
        {
          "output_type": "stream",
          "name": "stderr",
          "text": [
            "Epoch 25/50: 100%|██████████| 482/482 [03:02<00:00,  2.65it/s]\n"
          ]
        },
        {
          "output_type": "stream",
          "name": "stdout",
          "text": [
            "[25/50] Train Loss: 0.4503 | Train Acc: 0.9063 | Val Acc: 0.0030\n"
          ]
        },
        {
          "output_type": "stream",
          "name": "stderr",
          "text": [
            "Epoch 26/50: 100%|██████████| 482/482 [03:00<00:00,  2.68it/s]\n"
          ]
        },
        {
          "output_type": "stream",
          "name": "stdout",
          "text": [
            "[26/50] Train Loss: 0.4532 | Train Acc: 0.9064 | Val Acc: 0.0030\n"
          ]
        },
        {
          "output_type": "stream",
          "name": "stderr",
          "text": [
            "Epoch 27/50: 100%|██████████| 482/482 [02:59<00:00,  2.69it/s]\n"
          ]
        },
        {
          "output_type": "stream",
          "name": "stdout",
          "text": [
            "[27/50] Train Loss: 0.4275 | Train Acc: 0.9110 | Val Acc: 0.0030\n"
          ]
        },
        {
          "output_type": "stream",
          "name": "stderr",
          "text": [
            "Epoch 28/50: 100%|██████████| 482/482 [03:02<00:00,  2.64it/s]\n"
          ]
        },
        {
          "output_type": "stream",
          "name": "stdout",
          "text": [
            "[28/50] Train Loss: 0.4205 | Train Acc: 0.9139 | Val Acc: 0.0030\n"
          ]
        },
        {
          "output_type": "stream",
          "name": "stderr",
          "text": [
            "Epoch 29/50: 100%|██████████| 482/482 [02:58<00:00,  2.70it/s]\n"
          ]
        },
        {
          "output_type": "stream",
          "name": "stdout",
          "text": [
            "[29/50] Train Loss: 0.4260 | Train Acc: 0.9102 | Val Acc: 0.0030\n"
          ]
        },
        {
          "output_type": "stream",
          "name": "stderr",
          "text": [
            "Epoch 30/50: 100%|██████████| 482/482 [03:04<00:00,  2.62it/s]\n"
          ]
        },
        {
          "output_type": "stream",
          "name": "stdout",
          "text": [
            "[30/50] Train Loss: 0.4199 | Train Acc: 0.9104 | Val Acc: 0.0030\n"
          ]
        },
        {
          "output_type": "stream",
          "name": "stderr",
          "text": [
            "Epoch 31/50: 100%|██████████| 482/482 [03:02<00:00,  2.65it/s]\n"
          ]
        },
        {
          "output_type": "stream",
          "name": "stdout",
          "text": [
            "[31/50] Train Loss: 0.4083 | Train Acc: 0.9121 | Val Acc: 0.0030\n"
          ]
        },
        {
          "output_type": "stream",
          "name": "stderr",
          "text": [
            "Epoch 32/50: 100%|██████████| 482/482 [03:05<00:00,  2.60it/s]\n"
          ]
        },
        {
          "output_type": "stream",
          "name": "stdout",
          "text": [
            "[32/50] Train Loss: 0.4030 | Train Acc: 0.9148 | Val Acc: 0.0030\n"
          ]
        },
        {
          "output_type": "stream",
          "name": "stderr",
          "text": [
            "Epoch 33/50: 100%|██████████| 482/482 [03:06<00:00,  2.59it/s]\n"
          ]
        },
        {
          "output_type": "stream",
          "name": "stdout",
          "text": [
            "[33/50] Train Loss: 0.3984 | Train Acc: 0.9152 | Val Acc: 0.0031\n"
          ]
        },
        {
          "output_type": "stream",
          "name": "stderr",
          "text": [
            "Epoch 34/50: 100%|██████████| 482/482 [03:11<00:00,  2.52it/s]\n"
          ]
        },
        {
          "output_type": "stream",
          "name": "stdout",
          "text": [
            "[34/50] Train Loss: 0.3836 | Train Acc: 0.9180 | Val Acc: 0.0032\n"
          ]
        },
        {
          "output_type": "stream",
          "name": "stderr",
          "text": [
            "Epoch 35/50: 100%|██████████| 482/482 [03:13<00:00,  2.49it/s]\n"
          ]
        },
        {
          "output_type": "stream",
          "name": "stdout",
          "text": [
            "[35/50] Train Loss: 0.3807 | Train Acc: 0.9187 | Val Acc: 0.0030\n"
          ]
        },
        {
          "output_type": "stream",
          "name": "stderr",
          "text": [
            "Epoch 36/50: 100%|██████████| 482/482 [03:49<00:00,  2.10it/s]\n"
          ]
        },
        {
          "output_type": "stream",
          "name": "stdout",
          "text": [
            "[36/50] Train Loss: 0.3559 | Train Acc: 0.9244 | Val Acc: 0.0034\n"
          ]
        },
        {
          "output_type": "stream",
          "name": "stderr",
          "text": [
            "Epoch 37/50: 100%|██████████| 482/482 [03:18<00:00,  2.42it/s]\n"
          ]
        },
        {
          "output_type": "stream",
          "name": "stdout",
          "text": [
            "[37/50] Train Loss: 0.3578 | Train Acc: 0.9214 | Val Acc: 0.0030\n"
          ]
        },
        {
          "output_type": "stream",
          "name": "stderr",
          "text": [
            "Epoch 38/50: 100%|██████████| 482/482 [03:14<00:00,  2.48it/s]\n"
          ]
        },
        {
          "output_type": "stream",
          "name": "stdout",
          "text": [
            "[38/50] Train Loss: 0.3653 | Train Acc: 0.9197 | Val Acc: 0.0030\n"
          ]
        },
        {
          "output_type": "stream",
          "name": "stderr",
          "text": [
            "Epoch 39/50: 100%|██████████| 482/482 [03:16<00:00,  2.45it/s]\n"
          ]
        },
        {
          "output_type": "stream",
          "name": "stdout",
          "text": [
            "[39/50] Train Loss: 0.3507 | Train Acc: 0.9252 | Val Acc: 0.0030\n"
          ]
        },
        {
          "output_type": "stream",
          "name": "stderr",
          "text": [
            "Epoch 40/50: 100%|██████████| 482/482 [03:16<00:00,  2.45it/s]\n"
          ]
        },
        {
          "output_type": "stream",
          "name": "stdout",
          "text": [
            "[40/50] Train Loss: 0.3621 | Train Acc: 0.9197 | Val Acc: 0.0031\n"
          ]
        },
        {
          "output_type": "stream",
          "name": "stderr",
          "text": [
            "Epoch 41/50: 100%|██████████| 482/482 [03:20<00:00,  2.41it/s]\n"
          ]
        },
        {
          "output_type": "stream",
          "name": "stdout",
          "text": [
            "[41/50] Train Loss: 0.3423 | Train Acc: 0.9245 | Val Acc: 0.0030\n"
          ]
        },
        {
          "output_type": "stream",
          "name": "stderr",
          "text": [
            "Epoch 42/50: 100%|██████████| 482/482 [03:21<00:00,  2.39it/s]\n"
          ]
        },
        {
          "output_type": "stream",
          "name": "stdout",
          "text": [
            "[42/50] Train Loss: 0.3327 | Train Acc: 0.9260 | Val Acc: 0.0030\n"
          ]
        },
        {
          "output_type": "stream",
          "name": "stderr",
          "text": [
            "Epoch 43/50: 100%|██████████| 482/482 [03:16<00:00,  2.45it/s]\n"
          ]
        },
        {
          "output_type": "stream",
          "name": "stdout",
          "text": [
            "[43/50] Train Loss: 0.3351 | Train Acc: 0.9245 | Val Acc: 0.0028\n"
          ]
        },
        {
          "output_type": "stream",
          "name": "stderr",
          "text": [
            "Epoch 44/50: 100%|██████████| 482/482 [03:08<00:00,  2.56it/s]\n"
          ]
        },
        {
          "output_type": "stream",
          "name": "stdout",
          "text": [
            "[44/50] Train Loss: 0.3361 | Train Acc: 0.9263 | Val Acc: 0.0030\n"
          ]
        },
        {
          "output_type": "stream",
          "name": "stderr",
          "text": [
            "Epoch 45/50: 100%|██████████| 482/482 [03:07<00:00,  2.57it/s]\n"
          ]
        },
        {
          "output_type": "stream",
          "name": "stdout",
          "text": [
            "[45/50] Train Loss: 0.3299 | Train Acc: 0.9274 | Val Acc: 0.0030\n"
          ]
        },
        {
          "output_type": "stream",
          "name": "stderr",
          "text": [
            "Epoch 46/50: 100%|██████████| 482/482 [03:06<00:00,  2.58it/s]\n"
          ]
        },
        {
          "output_type": "stream",
          "name": "stdout",
          "text": [
            "[46/50] Train Loss: 0.3125 | Train Acc: 0.9312 | Val Acc: 0.0030\n"
          ]
        },
        {
          "output_type": "stream",
          "name": "stderr",
          "text": [
            "Epoch 47/50: 100%|██████████| 482/482 [03:05<00:00,  2.59it/s]\n"
          ]
        },
        {
          "output_type": "stream",
          "name": "stdout",
          "text": [
            "[47/50] Train Loss: 0.3291 | Train Acc: 0.9261 | Val Acc: 0.0030\n"
          ]
        },
        {
          "output_type": "stream",
          "name": "stderr",
          "text": [
            "Epoch 48/50: 100%|██████████| 482/482 [03:07<00:00,  2.58it/s]\n"
          ]
        },
        {
          "output_type": "stream",
          "name": "stdout",
          "text": [
            "[48/50] Train Loss: 0.3017 | Train Acc: 0.9316 | Val Acc: 0.0032\n"
          ]
        },
        {
          "output_type": "stream",
          "name": "stderr",
          "text": [
            "Epoch 49/50: 100%|██████████| 482/482 [03:04<00:00,  2.61it/s]\n"
          ]
        }
      ]
    },
    {
      "cell_type": "code",
      "source": [
        "from sklearn.metrics import classification_report, confusion_matrix\n",
        "import seaborn as sns\n",
        "import matplotlib.pyplot as plt\n",
        "import numpy as np\n",
        "\n",
        "def evaluate_f1_confusion(model, data_loader):\n",
        "    model.eval()\n",
        "    all_preds = []\n",
        "    all_labels = []\n",
        "\n",
        "    with torch.no_grad():\n",
        "        for images, labels in data_loader:\n",
        "            images, labels = images.to(device), labels.to(device)\n",
        "            outputs = model(images)\n",
        "            _, predicted = outputs.max(1)\n",
        "            all_preds.extend(predicted.cpu().numpy())\n",
        "            all_labels.extend(labels.cpu().numpy())\n",
        "\n",
        "    # Classification report using integer labels\n",
        "    print(classification_report(all_labels, all_preds, zero_division=0))\n",
        "\n",
        "    # Confusion matrix\n",
        "    cm = confusion_matrix(all_labels, all_preds)\n",
        "    plt.figure(figsize=(12,10))\n",
        "    sns.heatmap(cm, annot=False, fmt=\"d\", cmap=\"Blues\")\n",
        "    plt.xlabel(\"Predicted\")\n",
        "    plt.ylabel(\"True\")\n",
        "    plt.title(\"Confusion Matrix\")\n",
        "    plt.show()\n",
        "\n",
        "# ✅ Now call\n",
        "evaluate_f1_confusion(model, taskB_val_loader)\n"
      ],
      "metadata": {
        "id": "LJOigUgjidMT"
      },
      "execution_count": null,
      "outputs": []
    },
    {
      "cell_type": "code",
      "source": [
        "from sklearn.metrics import f1_score\n",
        "\n",
        "def compute_macro_f1(model, data_loader):\n",
        "    model.eval()\n",
        "    all_preds, all_labels = [], []\n",
        "    with torch.no_grad():\n",
        "        for images, labels in data_loader:\n",
        "            images, labels = images.to(device), labels.to(device)\n",
        "            outputs = model(images)\n",
        "            _, predicted = outputs.max(1)\n",
        "            all_preds.extend(predicted.cpu().numpy())\n",
        "            all_labels.extend(labels.cpu().numpy())\n",
        "    macro_f1 = f1_score(all_labels, all_preds, average='macro')\n",
        "    print(f\"Macro-averaged F1-Score: {macro_f1:.4f}\")\n",
        "\n",
        "compute_macro_f1(model, taskB_val_loader)\n"
      ],
      "metadata": {
        "id": "qaVpoQkgih0Z"
      },
      "execution_count": null,
      "outputs": []
    },
    {
      "cell_type": "code",
      "source": [
        "from sklearn.metrics import f1_score\n",
        "\n",
        "def compute_macro_f1(model, data_loader):\n",
        "    model.eval()\n",
        "    all_preds, all_labels = [], []\n",
        "    with torch.no_grad():\n",
        "        for images, labels in data_loader:\n",
        "            images, labels = images.to(device), labels.to(device)\n",
        "            outputs = model(images)\n",
        "            _, predicted = outputs.max(1)\n",
        "            all_preds.extend(predicted.cpu().numpy())\n",
        "            all_labels.extend(labels.cpu().numpy())\n",
        "    macro_f1 = f1_score(all_labels, all_preds, average='macro')\n",
        "    print(f\"Macro-averaged F1-Score: {macro_f1:.4f}\")\n",
        "\n",
        "compute_macro_f1(model, taskB_val_loader)\n"
      ],
      "metadata": {
        "id": "vEldINDpinY2"
      },
      "execution_count": null,
      "outputs": []
    },
    {
      "cell_type": "code",
      "source": [
        "val_acc = evaluate_model(model, taskB_val_loader)\n",
        "print(f\"Validation Accuracy: {val_acc:.4f}\")\n"
      ],
      "metadata": {
        "id": "6WSjkmzjip7e"
      },
      "execution_count": null,
      "outputs": []
    },
    {
      "cell_type": "code",
      "source": [
        "import torch.nn.functional as F\n",
        "import matplotlib.pyplot as plt\n",
        "from PIL import Image\n",
        "\n",
        "# Load your image\n",
        "img_path = \"/content/John_Nash_0001.jpg\"  # adjust if needed\n",
        "image = Image.open(img_path).convert(\"RGB\")\n",
        "\n",
        "# Apply the same transform as validation\n",
        "input_tensor = transform_val(image).unsqueeze(0).to(device)\n",
        "\n",
        "# Get predictions\n",
        "model.eval()\n",
        "with torch.no_grad():\n",
        "    outputs = model(input_tensor)\n",
        "    probs = F.softmax(outputs, dim=1).cpu().numpy()[0]\n",
        "\n",
        "# Top 3 predictions\n",
        "top3_idx = probs.argsort()[-3:][::-1]\n",
        "top3_probs = probs[top3_idx]\n",
        "top3_names = [taskB_train_ds.classes[i] for i in top3_idx]\n",
        "\n",
        "# Print top 3\n",
        "print(\"🔝 Top 3 predictions:\")\n",
        "for i in range(3):\n",
        "    print(f\"{top3_names[i]}: {top3_probs[i]:.4f}\")\n",
        "\n",
        "# Plot image with top prediction\n",
        "plt.imshow(image)\n",
        "plt.title(f\"Predicted: {top3_names[0]} ({top3_probs[0]:.2f})\")\n",
        "plt.axis(\"off\")\n",
        "plt.show()\n"
      ],
      "metadata": {
        "id": "tPKOujHci5Yh"
      },
      "execution_count": null,
      "outputs": []
    },
    {
      "cell_type": "code",
      "source": [
        "# Save the model weights after training\n",
        "torch.save(model.state_dict(), \"taskB_model.pth\")\n",
        "print(\"✅ Model saved as taskB_model.pth\")\n"
      ],
      "metadata": {
        "id": "90VxbTT5i-Ma"
      },
      "execution_count": null,
      "outputs": []
    }
  ]
}