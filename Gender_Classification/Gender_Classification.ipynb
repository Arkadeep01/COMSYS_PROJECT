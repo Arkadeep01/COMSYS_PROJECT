{
 "cells": [
  {
   "cell_type": "markdown",
   "id": "479a8046-6987-465d-bdaa-0d04b37ef2e0",
   "metadata": {},
   "source": [
    "## Gender Classification Using CNN ##"
   ]
  },
  {
   "cell_type": "markdown",
   "id": "4b66f34a-6035-4b46-ba94-9c9daef7604c",
   "metadata": {},
   "source": [
    "## machine learning model processing \n",
    "* Problem Definition -> Classification of Gender\n",
    "* Data Preprocessing -> Prepare Features and Labels, Data Scaling\n",
    "* Model Selection -> Logistic Regression, SVM, Random Forest\n",
    "* Model Evaluation -> 1. Evaluate on test or validation data, 2. Metrics (Accuracy, Precision, F1-Score)\n",
    "* Model Training -> Fit the model to the train data\n",
    "* Model Visualization -> Display the Confusion Matrix\n",
    "* Hyperparameter Tuning -> Grid Search, Randomised Search\n",
    "* Model Validation ->Validate model generalization on unseen data\n",
    "* Model Save -> Keras"
   ]
  },
  {
   "cell_type": "markdown",
   "id": "4fc2f350-32aa-4256-90bd-562b25d8116a",
   "metadata": {},
   "source": [
    "**Problem Definition::**\n",
    "\n",
    "*Objective: Classify gender (Male/Female) based on input features (e.g., facial measurements, extracted image features).\n",
    "Type: Binary Classification*"
   ]
  },
  {
   "cell_type": "code",
   "execution_count": 120,
   "id": "24a77caa-0f91-41ff-a21d-20f37e177502",
   "metadata": {},
   "outputs": [],
   "source": [
    "# Importing Necessary Libraries\n",
    "import os\n",
    "import pandas as pd\n",
    "import numpy as np\n",
    "import seaborn as sns\n",
    "import matplotlib.pyplot as plt\n",
    "\n",
    "from tensorflow.keras.preprocessing.image import ImageDataGenerator\n",
    "from tensorflow.keras.models import Sequential, load_model\n",
    "from tensorflow.keras.layers import Conv2D, MaxPooling2D, Flatten, Dense, Dropout\n",
    "from tensorflow.keras.optimizers import Adam\n",
    "from sklearn.metrics import classification_report, confusion_matrix"
   ]
  },
  {
   "cell_type": "code",
   "execution_count": 121,
   "id": "9b3cc39e-3bff-4165-b998-0a63113cc57c",
   "metadata": {},
   "outputs": [
    {
     "name": "stdout",
     "output_type": "stream",
     "text": [
      "Found 1926 images belonging to 2 classes.\n",
      "Found 422 images belonging to 2 classes.\n"
     ]
    }
   ],
   "source": [
    "# Data Preprocessing\n",
    "\n",
    "# Define paths\n",
    "train_path = 'dataset/train'\n",
    "val_path = 'dataset/val'\n",
    "\n",
    "# Image dimensions\n",
    "img_height, img_width = 128, 128\n",
    "\n",
    "# Data generators with normalization\n",
    "train_datagen = ImageDataGenerator(rescale=1./255)\n",
    "val_datagen = ImageDataGenerator(rescale=1./255)\n",
    "\n",
    "# Load and preprocess images\n",
    "train_generator = train_datagen.flow_from_directory(\n",
    "    train_path,\n",
    "    target_size=(img_height, img_width),\n",
    "    batch_size=32,\n",
    "    class_mode='binary'\n",
    ")\n",
    "\n",
    "val_generator = val_datagen.flow_from_directory(\n",
    "    val_path,\n",
    "    target_size=(img_height, img_width),\n",
    "    batch_size=32,\n",
    "    class_mode='binary',\n",
    "    shuffle=False  # Important for consistent predictions\n",
    ")\n"
   ]
  },
  {
   "cell_type": "code",
   "execution_count": 122,
   "id": "5f629e01-9c83-4cb2-b3c9-a512fc6c27b7",
   "metadata": {},
   "outputs": [],
   "source": [
    "# Model Selection\n",
    "def shallow_cnn():  # Model 1\n",
    "    model = Sequential([\n",
    "        Conv2D(32, (3, 3), activation='relu', input_shape=(128, 128, 3)),\n",
    "        MaxPooling2D(2, 2),\n",
    "        Flatten(),\n",
    "        Dense(64, activation='relu'),\n",
    "        Dense(1, activation='sigmoid')\n",
    "    ])\n",
    "    return model\n",
    "\n",
    "def medium_cnn():  # Model 2\n",
    "    model = Sequential([\n",
    "        Conv2D(32, (3, 3), activation='relu', input_shape=(128, 128, 3)),\n",
    "        MaxPooling2D(2, 2),\n",
    "        Conv2D(64, (3, 3), activation='relu'),\n",
    "        MaxPooling2D(2, 2),\n",
    "        Flatten(),\n",
    "        Dense(128, activation='relu'),\n",
    "        Dropout(0.5),\n",
    "        Dense(1, activation='sigmoid')\n",
    "    ])\n",
    "    return model\n",
    "\n",
    "def deep_vgg_like_cnn():  # Model 3\n",
    "    model = Sequential([\n",
    "        Conv2D(64, (3, 3), activation='relu', input_shape=(128, 128, 3)),\n",
    "        Conv2D(64, (3, 3), activation='relu'),\n",
    "        MaxPooling2D(2, 2),\n",
    "        Conv2D(128, (3, 3), activation='relu'),\n",
    "        Conv2D(128, (3, 3), activation='relu'),\n",
    "        MaxPooling2D(2, 2),\n",
    "        Flatten(),\n",
    "        Dense(256, activation='relu'),\n",
    "        Dropout(0.5),\n",
    "        Dense(1, activation='sigmoid')\n",
    "    ])\n",
    "    return model"
   ]
  },
  {
   "cell_type": "code",
   "execution_count": null,
   "id": "2907d9cc-3db5-4c67-bd94-324919bc18ca",
   "metadata": {},
   "outputs": [
    {
     "name": "stdout",
     "output_type": "stream",
     "text": [
      "\n",
      "🔁 Training: Shallow CNN\n",
      "Epoch 1/10\n",
      "\u001b[1m45/61\u001b[0m \u001b[32m━━━━━━━━━━━━━━\u001b[0m\u001b[37m━━━━━━\u001b[0m \u001b[1m2s\u001b[0m 162ms/step - accuracy: 0.7789 - loss: 2.6636"
     ]
    }
   ],
   "source": [
    "# Train the Models\n",
    "models = {\n",
    "    \"Shallow CNN\": shallow_cnn(),\n",
    "    \"Medium CNN\": medium_cnn(),\n",
    "    \"Deep VGG-like CNN\": deep_vgg_like_cnn()\n",
    "}\n",
    "\n",
    "histories = {}\n",
    "results = {}\n",
    "\n",
    "for name, model in models.items():\n",
    "    print(f\"\\n🔁 Training: {name}\")\n",
    "    \n",
    "    model.compile(optimizer=Adam(learning_rate=0.001),\n",
    "                  loss='binary_crossentropy',\n",
    "                  metrics=['accuracy'])\n",
    "\n",
    "    history = model.fit(\n",
    "        train_generator,\n",
    "        epochs=10,\n",
    "        validation_data=val_generator,\n",
    "        verbose=1\n",
    "    )\n",
    "\n",
    "    loss, acc = model.evaluate(val_generator, verbose=0)\n",
    "    print(f\"✅ {name} - Test Accuracy: {acc:.4f}\")\n",
    "    \n",
    "    histories[name] = history\n",
    "    results[name] = (model, acc) "
   ]
  },
  {
   "cell_type": "code",
   "execution_count": null,
   "id": "0b3586ab-a296-4868-af85-28d05244b85c",
   "metadata": {},
   "outputs": [],
   "source": [
    "#Fit the best model\n",
    "def shallow_cnn(learning_rate):  # <== Accept learning_rate here\n",
    "    model = Sequential([\n",
    "        Conv2D(32, (3, 3), activation='relu', input_shape=(128, 128, 3)),\n",
    "        MaxPooling2D(2, 2),\n",
    "        Flatten(),\n",
    "        Dense(64, activation='relu'),\n",
    "        Dense(1, activation='sigmoid')\n",
    "    ])\n",
    "    model.compile(optimizer=Adam(learning_rate=learning_rate),\n",
    "                  loss='binary_crossentropy',\n",
    "                  metrics=['accuracy'])\n",
    "    return model\n",
    "    \n",
    "# Fit the model (if not already trained)\n",
    "history = model.fit(\n",
    "    train_generator,\n",
    "    epochs=15,\n",
    "    validation_data=val_generator,\n",
    "    verbose=1\n",
    ")\n"
   ]
  },
  {
   "cell_type": "code",
   "execution_count": null,
   "id": "5f51999e-39ec-4892-842e-bd7c0ee6c24f",
   "metadata": {},
   "outputs": [],
   "source": [
    "#Model Validation\n",
    "loss, acc = model.evaluate(val_generator, verbose=0)\n",
    "print(f\"✅ Final Test Accuracy: {acc:.4f}\")"
   ]
  },
  {
   "cell_type": "code",
   "execution_count": null,
   "id": "00cd61c4-11d6-4ca5-8abe-731e09327f01",
   "metadata": {},
   "outputs": [],
   "source": [
    "# Get true labels and predicted probabilities\n",
    "y_true = val_generator.classes\n",
    "y_pred_prob = model.predict(val_generator)\n",
    "y_pred = (y_pred_prob > 0.5).astype(\"int32\").reshape(-1)"
   ]
  },
  {
   "cell_type": "code",
   "execution_count": null,
   "id": "82a012ab-ac92-4d0f-9ff4-3f49efc72e77",
   "metadata": {},
   "outputs": [],
   "source": [
    "print(\"✅ Classification Report:\")\n",
    "print(classification_report(y_true, y_pred, target_names=['Male', 'Female']))"
   ]
  },
  {
   "cell_type": "code",
   "execution_count": null,
   "id": "2d6b1324-05c1-4965-9f1e-75bd07f9c3dd",
   "metadata": {},
   "outputs": [],
   "source": [
    "# Visualization\n",
    "cm = confusion_matrix(y_true, y_pred)\n",
    "sns.heatmap(cm, annot=True, fmt='d', cmap='Blues', xticklabels=['Male', 'Female'], yticklabels=['Male', 'Female'])\n",
    "plt.xlabel('Predicted')\n",
    "plt.ylabel('Actual')\n",
    "plt.title('Confusion Matrix')\n",
    "plt.show()"
   ]
  },
  {
   "cell_type": "code",
   "execution_count": null,
   "id": "4d1b6fca-d76c-428b-be05-2fcc67443161",
   "metadata": {},
   "outputs": [],
   "source": [
    "# Data loader function\n",
    "def get_data(batch_size):\n",
    "    train_datagen = ImageDataGenerator(rescale=1./255)\n",
    "    val_datagen = ImageDataGenerator(rescale=1./255)\n",
    "\n",
    "    train_gen = train_datagen.flow_from_directory(\n",
    "        train_path,\n",
    "        target_size=img_size,\n",
    "        batch_size=batch_size,\n",
    "        class_mode='binary'\n",
    "    )\n",
    "\n",
    "    val_gen = val_datagen.flow_from_directory(\n",
    "        val_path,\n",
    "        target_size=img_size,\n",
    "        batch_size=batch_size,\n",
    "        class_mode='binary',\n",
    "        shuffle=False\n",
    "    )\n",
    "    return train_gen, val_gen\n"
   ]
  },
  {
   "cell_type": "code",
   "execution_count": null,
   "id": "a6be0841-4f25-4767-bdfe-38c9066d8bf9",
   "metadata": {},
   "outputs": [],
   "source": [
    "# Hyperparameter tuning loop\n",
    "best_acc = 0\n",
    "best_config = None\n",
    "best_model = None\n",
    "\n",
    "for lr in learning_rates:\n",
    "    for batch in batch_sizes:\n",
    "        print(f\"\\n🔧 Training with LR={lr}, Batch Size={batch}\")\n",
    "        \n",
    "        train_gen, val_gen = get_data(batch)\n",
    "        model = shallow_cnn(lr)\n",
    "        \n",
    "        model.fit(train_gen, epochs=10, validation_data=val_gen, verbose=0)\n",
    "        loss, acc = model.evaluate(val_gen, verbose=0)\n",
    "        \n",
    "        print(f\"✅ Accuracy: {acc:.4f}\")\n",
    "        \n",
    "        if acc > best_acc:\n",
    "            best_acc = acc\n",
    "            best_config = (lr, batch)\n",
    "            best_model = model\n",
    "\n",
    "print(f\"\\n🏆 Best Accuracy: {best_acc:.4f} with LR={best_config[0]}, Batch Size={best_config[1]}\")"
   ]
  },
  {
   "cell_type": "code",
   "execution_count": null,
   "id": "5890df68-f793-4259-9d09-3bee21c90063",
   "metadata": {},
   "outputs": [],
   "source": [
    "from tensorflow.keras.models import load_model\n",
    "\n",
    "# Load the model (from .keras file)\n",
    "model.save(\"final_best_gender_model.h5\")\n",
    "print(\"✅ Best tuned model loaded from: final_best_gender_model.h5\")\n"
   ]
  },
  {
   "cell_type": "code",
   "execution_count": null,
   "id": "20a1394a-a646-4786-aecb-9f15b0d2fcce",
   "metadata": {},
   "outputs": [],
   "source": []
  }
 ],
 "metadata": {
  "kernelspec": {
   "display_name": "Python 3 (ipykernel)",
   "language": "python",
   "name": "python3"
  },
  "language_info": {
   "codemirror_mode": {
    "name": "ipython",
    "version": 3
   },
   "file_extension": ".py",
   "mimetype": "text/x-python",
   "name": "python",
   "nbconvert_exporter": "python",
   "pygments_lexer": "ipython3",
   "version": "3.12.7"
  }
 },
 "nbformat": 4,
 "nbformat_minor": 5
}
